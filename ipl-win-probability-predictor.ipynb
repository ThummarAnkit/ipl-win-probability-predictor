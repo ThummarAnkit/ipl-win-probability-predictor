{
 "cells": [
  {
   "cell_type": "code",
   "execution_count": 2,
   "metadata": {
    "execution": {
     "iopub.execute_input": "2025-08-10T08:59:39.991950Z",
     "iopub.status.busy": "2025-08-10T08:59:39.991465Z",
     "iopub.status.idle": "2025-08-10T08:59:40.698705Z",
     "shell.execute_reply": "2025-08-10T08:59:40.697649Z",
     "shell.execute_reply.started": "2025-08-10T08:59:39.991918Z"
    }
   },
   "outputs": [],
   "source": [
    "#importing libraries\n",
    "import warnings\n",
    "warnings.filterwarnings('ignore')\n",
    "\n",
    "import numpy as np \n",
    "import pandas as pd \n",
    "import matplotlib.pyplot as plt\n",
    "import seaborn as sns"
   ]
  },
  {
   "cell_type": "code",
   "execution_count": 3,
   "metadata": {
    "execution": {
     "iopub.execute_input": "2025-08-10T08:59:40.700575Z",
     "iopub.status.busy": "2025-08-10T08:59:40.699870Z",
     "iopub.status.idle": "2025-08-10T08:59:44.548698Z",
     "shell.execute_reply": "2025-08-10T08:59:44.547582Z",
     "shell.execute_reply.started": "2025-08-10T08:59:40.700548Z"
    }
   },
   "outputs": [
    {
     "name": "stdout",
     "output_type": "stream",
     "text": [
      "Requirement already satisfied: scikit-learn==1.7.1 in /usr/local/lib/python3.11/dist-packages (1.7.1)\n",
      "Requirement already satisfied: numpy>=1.22.0 in /usr/local/lib/python3.11/dist-packages (from scikit-learn==1.7.1) (1.26.4)\n",
      "Requirement already satisfied: scipy>=1.8.0 in /usr/local/lib/python3.11/dist-packages (from scikit-learn==1.7.1) (1.15.3)\n",
      "Requirement already satisfied: joblib>=1.2.0 in /usr/local/lib/python3.11/dist-packages (from scikit-learn==1.7.1) (1.5.1)\n",
      "Requirement already satisfied: threadpoolctl>=3.1.0 in /usr/local/lib/python3.11/dist-packages (from scikit-learn==1.7.1) (3.6.0)\n",
      "Requirement already satisfied: mkl_fft in /usr/local/lib/python3.11/dist-packages (from numpy>=1.22.0->scikit-learn==1.7.1) (1.3.8)\n",
      "Requirement already satisfied: mkl_random in /usr/local/lib/python3.11/dist-packages (from numpy>=1.22.0->scikit-learn==1.7.1) (1.2.4)\n",
      "Requirement already satisfied: mkl_umath in /usr/local/lib/python3.11/dist-packages (from numpy>=1.22.0->scikit-learn==1.7.1) (0.1.1)\n",
      "Requirement already satisfied: mkl in /usr/local/lib/python3.11/dist-packages (from numpy>=1.22.0->scikit-learn==1.7.1) (2025.2.0)\n",
      "Requirement already satisfied: tbb4py in /usr/local/lib/python3.11/dist-packages (from numpy>=1.22.0->scikit-learn==1.7.1) (2022.2.0)\n",
      "Requirement already satisfied: mkl-service in /usr/local/lib/python3.11/dist-packages (from numpy>=1.22.0->scikit-learn==1.7.1) (2.4.1)\n",
      "Requirement already satisfied: intel-openmp<2026,>=2024 in /usr/local/lib/python3.11/dist-packages (from mkl->numpy>=1.22.0->scikit-learn==1.7.1) (2024.2.0)\n",
      "Requirement already satisfied: tbb==2022.* in /usr/local/lib/python3.11/dist-packages (from mkl->numpy>=1.22.0->scikit-learn==1.7.1) (2022.2.0)\n",
      "Requirement already satisfied: tcmlib==1.* in /usr/local/lib/python3.11/dist-packages (from tbb==2022.*->mkl->numpy>=1.22.0->scikit-learn==1.7.1) (1.4.0)\n",
      "Requirement already satisfied: intel-cmplr-lib-rt in /usr/local/lib/python3.11/dist-packages (from mkl_umath->numpy>=1.22.0->scikit-learn==1.7.1) (2024.2.0)\n",
      "Requirement already satisfied: intel-cmplr-lib-ur==2024.2.0 in /usr/local/lib/python3.11/dist-packages (from intel-openmp<2026,>=2024->mkl->numpy>=1.22.0->scikit-learn==1.7.1) (2024.2.0)\n",
      "Note: you may need to restart the kernel to use updated packages.\n"
     ]
    }
   ],
   "source": [
    "pip install scikit-learn==1.7.1"
   ]
  },
  {
   "cell_type": "code",
   "execution_count": 5,
   "metadata": {
    "execution": {
     "iopub.execute_input": "2025-08-10T08:59:44.637841Z",
     "iopub.status.busy": "2025-08-10T08:59:44.636973Z",
     "iopub.status.idle": "2025-08-10T08:59:45.312595Z",
     "shell.execute_reply": "2025-08-10T08:59:45.311518Z",
     "shell.execute_reply.started": "2025-08-10T08:59:44.637807Z"
    }
   },
   "outputs": [
    {
     "data": {
      "text/html": [
       "<div>\n",
       "<style scoped>\n",
       "    .dataframe tbody tr th:only-of-type {\n",
       "        vertical-align: middle;\n",
       "    }\n",
       "\n",
       "    .dataframe tbody tr th {\n",
       "        vertical-align: top;\n",
       "    }\n",
       "\n",
       "    .dataframe thead th {\n",
       "        text-align: right;\n",
       "    }\n",
       "</style>\n",
       "<table border=\"1\" class=\"dataframe\">\n",
       "  <thead>\n",
       "    <tr style=\"text-align: right;\">\n",
       "      <th></th>\n",
       "      <th>match_id</th>\n",
       "      <th>inning</th>\n",
       "      <th>batting_team</th>\n",
       "      <th>bowling_team</th>\n",
       "      <th>over</th>\n",
       "      <th>ball</th>\n",
       "      <th>batter</th>\n",
       "      <th>bowler</th>\n",
       "      <th>non_striker</th>\n",
       "      <th>batsman_runs</th>\n",
       "      <th>extra_runs</th>\n",
       "      <th>total_runs</th>\n",
       "      <th>extras_type</th>\n",
       "      <th>is_wicket</th>\n",
       "      <th>player_dismissed</th>\n",
       "      <th>dismissal_kind</th>\n",
       "      <th>fielder</th>\n",
       "    </tr>\n",
       "  </thead>\n",
       "  <tbody>\n",
       "    <tr>\n",
       "      <th>0</th>\n",
       "      <td>335982</td>\n",
       "      <td>1</td>\n",
       "      <td>Kolkata Knight Riders</td>\n",
       "      <td>Royal Challengers Bangalore</td>\n",
       "      <td>0</td>\n",
       "      <td>1</td>\n",
       "      <td>SC Ganguly</td>\n",
       "      <td>P Kumar</td>\n",
       "      <td>BB McCullum</td>\n",
       "      <td>0</td>\n",
       "      <td>1</td>\n",
       "      <td>1</td>\n",
       "      <td>legbyes</td>\n",
       "      <td>0</td>\n",
       "      <td>NaN</td>\n",
       "      <td>NaN</td>\n",
       "      <td>NaN</td>\n",
       "    </tr>\n",
       "    <tr>\n",
       "      <th>1</th>\n",
       "      <td>335982</td>\n",
       "      <td>1</td>\n",
       "      <td>Kolkata Knight Riders</td>\n",
       "      <td>Royal Challengers Bangalore</td>\n",
       "      <td>0</td>\n",
       "      <td>2</td>\n",
       "      <td>BB McCullum</td>\n",
       "      <td>P Kumar</td>\n",
       "      <td>SC Ganguly</td>\n",
       "      <td>0</td>\n",
       "      <td>0</td>\n",
       "      <td>0</td>\n",
       "      <td>NaN</td>\n",
       "      <td>0</td>\n",
       "      <td>NaN</td>\n",
       "      <td>NaN</td>\n",
       "      <td>NaN</td>\n",
       "    </tr>\n",
       "    <tr>\n",
       "      <th>2</th>\n",
       "      <td>335982</td>\n",
       "      <td>1</td>\n",
       "      <td>Kolkata Knight Riders</td>\n",
       "      <td>Royal Challengers Bangalore</td>\n",
       "      <td>0</td>\n",
       "      <td>3</td>\n",
       "      <td>BB McCullum</td>\n",
       "      <td>P Kumar</td>\n",
       "      <td>SC Ganguly</td>\n",
       "      <td>0</td>\n",
       "      <td>1</td>\n",
       "      <td>1</td>\n",
       "      <td>wides</td>\n",
       "      <td>0</td>\n",
       "      <td>NaN</td>\n",
       "      <td>NaN</td>\n",
       "      <td>NaN</td>\n",
       "    </tr>\n",
       "    <tr>\n",
       "      <th>3</th>\n",
       "      <td>335982</td>\n",
       "      <td>1</td>\n",
       "      <td>Kolkata Knight Riders</td>\n",
       "      <td>Royal Challengers Bangalore</td>\n",
       "      <td>0</td>\n",
       "      <td>4</td>\n",
       "      <td>BB McCullum</td>\n",
       "      <td>P Kumar</td>\n",
       "      <td>SC Ganguly</td>\n",
       "      <td>0</td>\n",
       "      <td>0</td>\n",
       "      <td>0</td>\n",
       "      <td>NaN</td>\n",
       "      <td>0</td>\n",
       "      <td>NaN</td>\n",
       "      <td>NaN</td>\n",
       "      <td>NaN</td>\n",
       "    </tr>\n",
       "    <tr>\n",
       "      <th>4</th>\n",
       "      <td>335982</td>\n",
       "      <td>1</td>\n",
       "      <td>Kolkata Knight Riders</td>\n",
       "      <td>Royal Challengers Bangalore</td>\n",
       "      <td>0</td>\n",
       "      <td>5</td>\n",
       "      <td>BB McCullum</td>\n",
       "      <td>P Kumar</td>\n",
       "      <td>SC Ganguly</td>\n",
       "      <td>0</td>\n",
       "      <td>0</td>\n",
       "      <td>0</td>\n",
       "      <td>NaN</td>\n",
       "      <td>0</td>\n",
       "      <td>NaN</td>\n",
       "      <td>NaN</td>\n",
       "      <td>NaN</td>\n",
       "    </tr>\n",
       "  </tbody>\n",
       "</table>\n",
       "</div>"
      ],
      "text/plain": [
       "   match_id  inning           batting_team                 bowling_team  over  \\\n",
       "0    335982       1  Kolkata Knight Riders  Royal Challengers Bangalore     0   \n",
       "1    335982       1  Kolkata Knight Riders  Royal Challengers Bangalore     0   \n",
       "2    335982       1  Kolkata Knight Riders  Royal Challengers Bangalore     0   \n",
       "3    335982       1  Kolkata Knight Riders  Royal Challengers Bangalore     0   \n",
       "4    335982       1  Kolkata Knight Riders  Royal Challengers Bangalore     0   \n",
       "\n",
       "   ball       batter   bowler  non_striker  batsman_runs  extra_runs  \\\n",
       "0     1   SC Ganguly  P Kumar  BB McCullum             0           1   \n",
       "1     2  BB McCullum  P Kumar   SC Ganguly             0           0   \n",
       "2     3  BB McCullum  P Kumar   SC Ganguly             0           1   \n",
       "3     4  BB McCullum  P Kumar   SC Ganguly             0           0   \n",
       "4     5  BB McCullum  P Kumar   SC Ganguly             0           0   \n",
       "\n",
       "   total_runs extras_type  is_wicket player_dismissed dismissal_kind fielder  \n",
       "0           1     legbyes          0              NaN            NaN     NaN  \n",
       "1           0         NaN          0              NaN            NaN     NaN  \n",
       "2           1       wides          0              NaN            NaN     NaN  \n",
       "3           0         NaN          0              NaN            NaN     NaN  \n",
       "4           0         NaN          0              NaN            NaN     NaN  "
      ]
     },
     "execution_count": 5,
     "metadata": {},
     "output_type": "execute_result"
    }
   ],
   "source": [
    "df_balls = pd.read_csv('deliveries.csv')\n",
    "df_matches = pd.read_csv('matches.csv')\n",
    "df_balls.head()"
   ]
  },
  {
   "cell_type": "code",
   "execution_count": 6,
   "metadata": {
    "execution": {
     "iopub.execute_input": "2025-08-10T08:59:45.314180Z",
     "iopub.status.busy": "2025-08-10T08:59:45.313898Z",
     "iopub.status.idle": "2025-08-10T08:59:45.333688Z",
     "shell.execute_reply": "2025-08-10T08:59:45.332851Z",
     "shell.execute_reply.started": "2025-08-10T08:59:45.314159Z"
    }
   },
   "outputs": [
    {
     "data": {
      "text/html": [
       "<div>\n",
       "<style scoped>\n",
       "    .dataframe tbody tr th:only-of-type {\n",
       "        vertical-align: middle;\n",
       "    }\n",
       "\n",
       "    .dataframe tbody tr th {\n",
       "        vertical-align: top;\n",
       "    }\n",
       "\n",
       "    .dataframe thead th {\n",
       "        text-align: right;\n",
       "    }\n",
       "</style>\n",
       "<table border=\"1\" class=\"dataframe\">\n",
       "  <thead>\n",
       "    <tr style=\"text-align: right;\">\n",
       "      <th></th>\n",
       "      <th>id</th>\n",
       "      <th>season</th>\n",
       "      <th>city</th>\n",
       "      <th>date</th>\n",
       "      <th>match_type</th>\n",
       "      <th>player_of_match</th>\n",
       "      <th>venue</th>\n",
       "      <th>team1</th>\n",
       "      <th>team2</th>\n",
       "      <th>toss_winner</th>\n",
       "      <th>toss_decision</th>\n",
       "      <th>winner</th>\n",
       "      <th>result</th>\n",
       "      <th>result_margin</th>\n",
       "      <th>target_runs</th>\n",
       "      <th>target_overs</th>\n",
       "      <th>super_over</th>\n",
       "      <th>method</th>\n",
       "      <th>umpire1</th>\n",
       "      <th>umpire2</th>\n",
       "    </tr>\n",
       "  </thead>\n",
       "  <tbody>\n",
       "    <tr>\n",
       "      <th>0</th>\n",
       "      <td>335982</td>\n",
       "      <td>2007/08</td>\n",
       "      <td>Bangalore</td>\n",
       "      <td>2008-04-18</td>\n",
       "      <td>League</td>\n",
       "      <td>BB McCullum</td>\n",
       "      <td>M Chinnaswamy Stadium</td>\n",
       "      <td>Royal Challengers Bangalore</td>\n",
       "      <td>Kolkata Knight Riders</td>\n",
       "      <td>Royal Challengers Bangalore</td>\n",
       "      <td>field</td>\n",
       "      <td>Kolkata Knight Riders</td>\n",
       "      <td>runs</td>\n",
       "      <td>140.0</td>\n",
       "      <td>223.0</td>\n",
       "      <td>20.0</td>\n",
       "      <td>N</td>\n",
       "      <td>NaN</td>\n",
       "      <td>Asad Rauf</td>\n",
       "      <td>RE Koertzen</td>\n",
       "    </tr>\n",
       "    <tr>\n",
       "      <th>1</th>\n",
       "      <td>335983</td>\n",
       "      <td>2007/08</td>\n",
       "      <td>Chandigarh</td>\n",
       "      <td>2008-04-19</td>\n",
       "      <td>League</td>\n",
       "      <td>MEK Hussey</td>\n",
       "      <td>Punjab Cricket Association Stadium, Mohali</td>\n",
       "      <td>Kings XI Punjab</td>\n",
       "      <td>Chennai Super Kings</td>\n",
       "      <td>Chennai Super Kings</td>\n",
       "      <td>bat</td>\n",
       "      <td>Chennai Super Kings</td>\n",
       "      <td>runs</td>\n",
       "      <td>33.0</td>\n",
       "      <td>241.0</td>\n",
       "      <td>20.0</td>\n",
       "      <td>N</td>\n",
       "      <td>NaN</td>\n",
       "      <td>MR Benson</td>\n",
       "      <td>SL Shastri</td>\n",
       "    </tr>\n",
       "    <tr>\n",
       "      <th>2</th>\n",
       "      <td>335984</td>\n",
       "      <td>2007/08</td>\n",
       "      <td>Delhi</td>\n",
       "      <td>2008-04-19</td>\n",
       "      <td>League</td>\n",
       "      <td>MF Maharoof</td>\n",
       "      <td>Feroz Shah Kotla</td>\n",
       "      <td>Delhi Daredevils</td>\n",
       "      <td>Rajasthan Royals</td>\n",
       "      <td>Rajasthan Royals</td>\n",
       "      <td>bat</td>\n",
       "      <td>Delhi Daredevils</td>\n",
       "      <td>wickets</td>\n",
       "      <td>9.0</td>\n",
       "      <td>130.0</td>\n",
       "      <td>20.0</td>\n",
       "      <td>N</td>\n",
       "      <td>NaN</td>\n",
       "      <td>Aleem Dar</td>\n",
       "      <td>GA Pratapkumar</td>\n",
       "    </tr>\n",
       "    <tr>\n",
       "      <th>3</th>\n",
       "      <td>335985</td>\n",
       "      <td>2007/08</td>\n",
       "      <td>Mumbai</td>\n",
       "      <td>2008-04-20</td>\n",
       "      <td>League</td>\n",
       "      <td>MV Boucher</td>\n",
       "      <td>Wankhede Stadium</td>\n",
       "      <td>Mumbai Indians</td>\n",
       "      <td>Royal Challengers Bangalore</td>\n",
       "      <td>Mumbai Indians</td>\n",
       "      <td>bat</td>\n",
       "      <td>Royal Challengers Bangalore</td>\n",
       "      <td>wickets</td>\n",
       "      <td>5.0</td>\n",
       "      <td>166.0</td>\n",
       "      <td>20.0</td>\n",
       "      <td>N</td>\n",
       "      <td>NaN</td>\n",
       "      <td>SJ Davis</td>\n",
       "      <td>DJ Harper</td>\n",
       "    </tr>\n",
       "    <tr>\n",
       "      <th>4</th>\n",
       "      <td>335986</td>\n",
       "      <td>2007/08</td>\n",
       "      <td>Kolkata</td>\n",
       "      <td>2008-04-20</td>\n",
       "      <td>League</td>\n",
       "      <td>DJ Hussey</td>\n",
       "      <td>Eden Gardens</td>\n",
       "      <td>Kolkata Knight Riders</td>\n",
       "      <td>Deccan Chargers</td>\n",
       "      <td>Deccan Chargers</td>\n",
       "      <td>bat</td>\n",
       "      <td>Kolkata Knight Riders</td>\n",
       "      <td>wickets</td>\n",
       "      <td>5.0</td>\n",
       "      <td>111.0</td>\n",
       "      <td>20.0</td>\n",
       "      <td>N</td>\n",
       "      <td>NaN</td>\n",
       "      <td>BF Bowden</td>\n",
       "      <td>K Hariharan</td>\n",
       "    </tr>\n",
       "  </tbody>\n",
       "</table>\n",
       "</div>"
      ],
      "text/plain": [
       "       id   season        city        date match_type player_of_match  \\\n",
       "0  335982  2007/08   Bangalore  2008-04-18     League     BB McCullum   \n",
       "1  335983  2007/08  Chandigarh  2008-04-19     League      MEK Hussey   \n",
       "2  335984  2007/08       Delhi  2008-04-19     League     MF Maharoof   \n",
       "3  335985  2007/08      Mumbai  2008-04-20     League      MV Boucher   \n",
       "4  335986  2007/08     Kolkata  2008-04-20     League       DJ Hussey   \n",
       "\n",
       "                                        venue                        team1  \\\n",
       "0                       M Chinnaswamy Stadium  Royal Challengers Bangalore   \n",
       "1  Punjab Cricket Association Stadium, Mohali              Kings XI Punjab   \n",
       "2                            Feroz Shah Kotla             Delhi Daredevils   \n",
       "3                            Wankhede Stadium               Mumbai Indians   \n",
       "4                                Eden Gardens        Kolkata Knight Riders   \n",
       "\n",
       "                         team2                  toss_winner toss_decision  \\\n",
       "0        Kolkata Knight Riders  Royal Challengers Bangalore         field   \n",
       "1          Chennai Super Kings          Chennai Super Kings           bat   \n",
       "2             Rajasthan Royals             Rajasthan Royals           bat   \n",
       "3  Royal Challengers Bangalore               Mumbai Indians           bat   \n",
       "4              Deccan Chargers              Deccan Chargers           bat   \n",
       "\n",
       "                        winner   result  result_margin  target_runs  \\\n",
       "0        Kolkata Knight Riders     runs          140.0        223.0   \n",
       "1          Chennai Super Kings     runs           33.0        241.0   \n",
       "2             Delhi Daredevils  wickets            9.0        130.0   \n",
       "3  Royal Challengers Bangalore  wickets            5.0        166.0   \n",
       "4        Kolkata Knight Riders  wickets            5.0        111.0   \n",
       "\n",
       "   target_overs super_over method    umpire1         umpire2  \n",
       "0          20.0          N    NaN  Asad Rauf     RE Koertzen  \n",
       "1          20.0          N    NaN  MR Benson      SL Shastri  \n",
       "2          20.0          N    NaN  Aleem Dar  GA Pratapkumar  \n",
       "3          20.0          N    NaN   SJ Davis       DJ Harper  \n",
       "4          20.0          N    NaN  BF Bowden     K Hariharan  "
      ]
     },
     "execution_count": 6,
     "metadata": {},
     "output_type": "execute_result"
    }
   ],
   "source": [
    "df_matches.head()"
   ]
  },
  {
   "cell_type": "code",
   "execution_count": 7,
   "metadata": {
    "execution": {
     "iopub.execute_input": "2025-08-10T08:59:45.334915Z",
     "iopub.status.busy": "2025-08-10T08:59:45.334649Z",
     "iopub.status.idle": "2025-08-10T08:59:45.362605Z",
     "shell.execute_reply": "2025-08-10T08:59:45.361522Z",
     "shell.execute_reply.started": "2025-08-10T08:59:45.334894Z"
    }
   },
   "outputs": [
    {
     "data": {
      "text/plain": [
       "id                    0\n",
       "season                0\n",
       "city                 51\n",
       "date                  0\n",
       "match_type            0\n",
       "player_of_match       5\n",
       "venue                 0\n",
       "team1                 0\n",
       "team2                 0\n",
       "toss_winner           0\n",
       "toss_decision         0\n",
       "winner                5\n",
       "result                0\n",
       "result_margin        19\n",
       "target_runs           3\n",
       "target_overs          3\n",
       "super_over            0\n",
       "method             1074\n",
       "umpire1               0\n",
       "umpire2               0\n",
       "dtype: int64"
      ]
     },
     "execution_count": 7,
     "metadata": {},
     "output_type": "execute_result"
    }
   ],
   "source": [
    "df_matches.isnull().sum()"
   ]
  },
  {
   "cell_type": "markdown",
   "metadata": {},
   "source": [
    "For null values we only focus on city, target_overs, and target_runs, as we need these columns for the final data."
   ]
  },
  {
   "cell_type": "code",
   "execution_count": 8,
   "metadata": {
    "execution": {
     "iopub.execute_input": "2025-08-10T08:59:45.363735Z",
     "iopub.status.busy": "2025-08-10T08:59:45.363401Z",
     "iopub.status.idle": "2025-08-10T08:59:45.386636Z",
     "shell.execute_reply": "2025-08-10T08:59:45.385436Z",
     "shell.execute_reply.started": "2025-08-10T08:59:45.363709Z"
    }
   },
   "outputs": [
    {
     "data": {
      "text/plain": [
       "array([nan], dtype=object)"
      ]
     },
     "execution_count": 8,
     "metadata": {},
     "output_type": "execute_result"
    }
   ],
   "source": [
    "df_matches[df_matches[['city']].isnull().any(axis=1)]['venue'].unique()"
   ]
  },
  {
   "cell_type": "markdown",
   "metadata": {},
   "source": [
    "City Column value missing when venue is **'Sharjah Cricket Stadium**' OR **'Dubai International Cricket Stadium'**"
   ]
  },
  {
   "cell_type": "code",
   "execution_count": 9,
   "metadata": {
    "execution": {
     "iopub.execute_input": "2025-08-10T08:59:45.387986Z",
     "iopub.status.busy": "2025-08-10T08:59:45.387710Z",
     "iopub.status.idle": "2025-08-10T08:59:45.794581Z",
     "shell.execute_reply": "2025-08-10T08:59:45.793514Z",
     "shell.execute_reply.started": "2025-08-10T08:59:45.387962Z"
    }
   },
   "outputs": [],
   "source": [
    "def find_city(row):\n",
    "    if row[['city']].isnull().any():\n",
    "        if row['venue']=='Dubai International Cricket Stadium':\n",
    "            row['city']='Dubai'\n",
    "        else:\n",
    "            row['city']='Sharjah'\n",
    "    return row['city']\n",
    "\n",
    "df_matches['city'] = df_matches.apply(find_city,axis=1)"
   ]
  },
  {
   "cell_type": "code",
   "execution_count": 10,
   "metadata": {
    "execution": {
     "iopub.execute_input": "2025-08-10T08:59:45.795806Z",
     "iopub.status.busy": "2025-08-10T08:59:45.795542Z",
     "iopub.status.idle": "2025-08-10T08:59:45.802901Z",
     "shell.execute_reply": "2025-08-10T08:59:45.802003Z",
     "shell.execute_reply.started": "2025-08-10T08:59:45.795788Z"
    }
   },
   "outputs": [],
   "source": [
    "#drop matches data where target runs and target overs is not avilable\n",
    "df_matches.dropna(subset=['target_runs','target_overs'],inplace=True)"
   ]
  },
  {
   "cell_type": "code",
   "execution_count": 11,
   "metadata": {
    "execution": {
     "iopub.execute_input": "2025-08-10T08:59:45.804264Z",
     "iopub.status.busy": "2025-08-10T08:59:45.803958Z",
     "iopub.status.idle": "2025-08-10T08:59:46.185259Z",
     "shell.execute_reply": "2025-08-10T08:59:46.184207Z",
     "shell.execute_reply.started": "2025-08-10T08:59:45.804244Z"
    }
   },
   "outputs": [
    {
     "data": {
      "text/html": [
       "<div>\n",
       "<style scoped>\n",
       "    .dataframe tbody tr th:only-of-type {\n",
       "        vertical-align: middle;\n",
       "    }\n",
       "\n",
       "    .dataframe tbody tr th {\n",
       "        vertical-align: top;\n",
       "    }\n",
       "\n",
       "    .dataframe thead th {\n",
       "        text-align: right;\n",
       "    }\n",
       "</style>\n",
       "<table border=\"1\" class=\"dataframe\">\n",
       "  <thead>\n",
       "    <tr style=\"text-align: right;\">\n",
       "      <th></th>\n",
       "      <th>match_id</th>\n",
       "      <th>season</th>\n",
       "      <th>city</th>\n",
       "      <th>date</th>\n",
       "      <th>match_type</th>\n",
       "      <th>player_of_match</th>\n",
       "      <th>venue</th>\n",
       "      <th>team1</th>\n",
       "      <th>team2</th>\n",
       "      <th>toss_winner</th>\n",
       "      <th>...</th>\n",
       "      <th>bowler</th>\n",
       "      <th>non_striker</th>\n",
       "      <th>batsman_runs</th>\n",
       "      <th>extra_runs</th>\n",
       "      <th>total_runs</th>\n",
       "      <th>extras_type</th>\n",
       "      <th>is_wicket</th>\n",
       "      <th>player_dismissed</th>\n",
       "      <th>dismissal_kind</th>\n",
       "      <th>fielder</th>\n",
       "    </tr>\n",
       "  </thead>\n",
       "  <tbody>\n",
       "    <tr>\n",
       "      <th>0</th>\n",
       "      <td>335982</td>\n",
       "      <td>2007/08</td>\n",
       "      <td>Bangalore</td>\n",
       "      <td>2008-04-18</td>\n",
       "      <td>League</td>\n",
       "      <td>BB McCullum</td>\n",
       "      <td>M Chinnaswamy Stadium</td>\n",
       "      <td>Royal Challengers Bangalore</td>\n",
       "      <td>Kolkata Knight Riders</td>\n",
       "      <td>Royal Challengers Bangalore</td>\n",
       "      <td>...</td>\n",
       "      <td>P Kumar</td>\n",
       "      <td>BB McCullum</td>\n",
       "      <td>0</td>\n",
       "      <td>1</td>\n",
       "      <td>1</td>\n",
       "      <td>legbyes</td>\n",
       "      <td>0</td>\n",
       "      <td>NaN</td>\n",
       "      <td>NaN</td>\n",
       "      <td>NaN</td>\n",
       "    </tr>\n",
       "    <tr>\n",
       "      <th>1</th>\n",
       "      <td>335982</td>\n",
       "      <td>2007/08</td>\n",
       "      <td>Bangalore</td>\n",
       "      <td>2008-04-18</td>\n",
       "      <td>League</td>\n",
       "      <td>BB McCullum</td>\n",
       "      <td>M Chinnaswamy Stadium</td>\n",
       "      <td>Royal Challengers Bangalore</td>\n",
       "      <td>Kolkata Knight Riders</td>\n",
       "      <td>Royal Challengers Bangalore</td>\n",
       "      <td>...</td>\n",
       "      <td>P Kumar</td>\n",
       "      <td>SC Ganguly</td>\n",
       "      <td>0</td>\n",
       "      <td>0</td>\n",
       "      <td>0</td>\n",
       "      <td>NaN</td>\n",
       "      <td>0</td>\n",
       "      <td>NaN</td>\n",
       "      <td>NaN</td>\n",
       "      <td>NaN</td>\n",
       "    </tr>\n",
       "    <tr>\n",
       "      <th>2</th>\n",
       "      <td>335982</td>\n",
       "      <td>2007/08</td>\n",
       "      <td>Bangalore</td>\n",
       "      <td>2008-04-18</td>\n",
       "      <td>League</td>\n",
       "      <td>BB McCullum</td>\n",
       "      <td>M Chinnaswamy Stadium</td>\n",
       "      <td>Royal Challengers Bangalore</td>\n",
       "      <td>Kolkata Knight Riders</td>\n",
       "      <td>Royal Challengers Bangalore</td>\n",
       "      <td>...</td>\n",
       "      <td>P Kumar</td>\n",
       "      <td>SC Ganguly</td>\n",
       "      <td>0</td>\n",
       "      <td>1</td>\n",
       "      <td>1</td>\n",
       "      <td>wides</td>\n",
       "      <td>0</td>\n",
       "      <td>NaN</td>\n",
       "      <td>NaN</td>\n",
       "      <td>NaN</td>\n",
       "    </tr>\n",
       "    <tr>\n",
       "      <th>3</th>\n",
       "      <td>335982</td>\n",
       "      <td>2007/08</td>\n",
       "      <td>Bangalore</td>\n",
       "      <td>2008-04-18</td>\n",
       "      <td>League</td>\n",
       "      <td>BB McCullum</td>\n",
       "      <td>M Chinnaswamy Stadium</td>\n",
       "      <td>Royal Challengers Bangalore</td>\n",
       "      <td>Kolkata Knight Riders</td>\n",
       "      <td>Royal Challengers Bangalore</td>\n",
       "      <td>...</td>\n",
       "      <td>P Kumar</td>\n",
       "      <td>SC Ganguly</td>\n",
       "      <td>0</td>\n",
       "      <td>0</td>\n",
       "      <td>0</td>\n",
       "      <td>NaN</td>\n",
       "      <td>0</td>\n",
       "      <td>NaN</td>\n",
       "      <td>NaN</td>\n",
       "      <td>NaN</td>\n",
       "    </tr>\n",
       "    <tr>\n",
       "      <th>4</th>\n",
       "      <td>335982</td>\n",
       "      <td>2007/08</td>\n",
       "      <td>Bangalore</td>\n",
       "      <td>2008-04-18</td>\n",
       "      <td>League</td>\n",
       "      <td>BB McCullum</td>\n",
       "      <td>M Chinnaswamy Stadium</td>\n",
       "      <td>Royal Challengers Bangalore</td>\n",
       "      <td>Kolkata Knight Riders</td>\n",
       "      <td>Royal Challengers Bangalore</td>\n",
       "      <td>...</td>\n",
       "      <td>P Kumar</td>\n",
       "      <td>SC Ganguly</td>\n",
       "      <td>0</td>\n",
       "      <td>0</td>\n",
       "      <td>0</td>\n",
       "      <td>NaN</td>\n",
       "      <td>0</td>\n",
       "      <td>NaN</td>\n",
       "      <td>NaN</td>\n",
       "      <td>NaN</td>\n",
       "    </tr>\n",
       "  </tbody>\n",
       "</table>\n",
       "<p>5 rows × 36 columns</p>\n",
       "</div>"
      ],
      "text/plain": [
       "   match_id   season       city        date match_type player_of_match  \\\n",
       "0    335982  2007/08  Bangalore  2008-04-18     League     BB McCullum   \n",
       "1    335982  2007/08  Bangalore  2008-04-18     League     BB McCullum   \n",
       "2    335982  2007/08  Bangalore  2008-04-18     League     BB McCullum   \n",
       "3    335982  2007/08  Bangalore  2008-04-18     League     BB McCullum   \n",
       "4    335982  2007/08  Bangalore  2008-04-18     League     BB McCullum   \n",
       "\n",
       "                   venue                        team1                  team2  \\\n",
       "0  M Chinnaswamy Stadium  Royal Challengers Bangalore  Kolkata Knight Riders   \n",
       "1  M Chinnaswamy Stadium  Royal Challengers Bangalore  Kolkata Knight Riders   \n",
       "2  M Chinnaswamy Stadium  Royal Challengers Bangalore  Kolkata Knight Riders   \n",
       "3  M Chinnaswamy Stadium  Royal Challengers Bangalore  Kolkata Knight Riders   \n",
       "4  M Chinnaswamy Stadium  Royal Challengers Bangalore  Kolkata Knight Riders   \n",
       "\n",
       "                   toss_winner  ...   bowler  non_striker batsman_runs  \\\n",
       "0  Royal Challengers Bangalore  ...  P Kumar  BB McCullum            0   \n",
       "1  Royal Challengers Bangalore  ...  P Kumar   SC Ganguly            0   \n",
       "2  Royal Challengers Bangalore  ...  P Kumar   SC Ganguly            0   \n",
       "3  Royal Challengers Bangalore  ...  P Kumar   SC Ganguly            0   \n",
       "4  Royal Challengers Bangalore  ...  P Kumar   SC Ganguly            0   \n",
       "\n",
       "   extra_runs  total_runs  extras_type is_wicket player_dismissed  \\\n",
       "0           1           1      legbyes         0              NaN   \n",
       "1           0           0          NaN         0              NaN   \n",
       "2           1           1        wides         0              NaN   \n",
       "3           0           0          NaN         0              NaN   \n",
       "4           0           0          NaN         0              NaN   \n",
       "\n",
       "  dismissal_kind fielder  \n",
       "0            NaN     NaN  \n",
       "1            NaN     NaN  \n",
       "2            NaN     NaN  \n",
       "3            NaN     NaN  \n",
       "4            NaN     NaN  \n",
       "\n",
       "[5 rows x 36 columns]"
      ]
     },
     "execution_count": 11,
     "metadata": {},
     "output_type": "execute_result"
    }
   ],
   "source": [
    "#merge matches and balls data by match id\n",
    "df_matches.rename(columns={'id':'match_id'}, inplace=True)\n",
    "df_merge = df_matches.merge(df_balls)\n",
    "df_merge.head()"
   ]
  },
  {
   "cell_type": "code",
   "execution_count": 12,
   "metadata": {
    "execution": {
     "iopub.execute_input": "2025-08-10T08:59:46.186603Z",
     "iopub.status.busy": "2025-08-10T08:59:46.186259Z",
     "iopub.status.idle": "2025-08-10T08:59:46.193846Z",
     "shell.execute_reply": "2025-08-10T08:59:46.193034Z",
     "shell.execute_reply.started": "2025-08-10T08:59:46.186573Z"
    }
   },
   "outputs": [
    {
     "data": {
      "text/plain": [
       "Index(['match_id', 'season', 'city', 'date', 'match_type', 'player_of_match',\n",
       "       'venue', 'team1', 'team2', 'toss_winner', 'toss_decision', 'winner',\n",
       "       'result', 'result_margin', 'target_runs', 'target_overs', 'super_over',\n",
       "       'method', 'umpire1', 'umpire2', 'inning', 'batting_team',\n",
       "       'bowling_team', 'over', 'ball', 'batter', 'bowler', 'non_striker',\n",
       "       'batsman_runs', 'extra_runs', 'total_runs', 'extras_type', 'is_wicket',\n",
       "       'player_dismissed', 'dismissal_kind', 'fielder'],\n",
       "      dtype='object')"
      ]
     },
     "execution_count": 12,
     "metadata": {},
     "output_type": "execute_result"
    }
   ],
   "source": [
    "df_merge.keys()"
   ]
  },
  {
   "cell_type": "code",
   "execution_count": 13,
   "metadata": {
    "execution": {
     "iopub.execute_input": "2025-08-10T08:59:46.200067Z",
     "iopub.status.busy": "2025-08-10T08:59:46.199441Z",
     "iopub.status.idle": "2025-08-10T08:59:46.331718Z",
     "shell.execute_reply": "2025-08-10T08:59:46.330801Z",
     "shell.execute_reply.started": "2025-08-10T08:59:46.200034Z"
    }
   },
   "outputs": [
    {
     "data": {
      "text/html": [
       "<div>\n",
       "<style scoped>\n",
       "    .dataframe tbody tr th:only-of-type {\n",
       "        vertical-align: middle;\n",
       "    }\n",
       "\n",
       "    .dataframe tbody tr th {\n",
       "        vertical-align: top;\n",
       "    }\n",
       "\n",
       "    .dataframe thead th {\n",
       "        text-align: right;\n",
       "    }\n",
       "</style>\n",
       "<table border=\"1\" class=\"dataframe\">\n",
       "  <thead>\n",
       "    <tr style=\"text-align: right;\">\n",
       "      <th></th>\n",
       "      <th>match_id</th>\n",
       "      <th>result_margin</th>\n",
       "      <th>target_runs</th>\n",
       "      <th>target_overs</th>\n",
       "      <th>inning</th>\n",
       "      <th>over</th>\n",
       "      <th>ball</th>\n",
       "      <th>batsman_runs</th>\n",
       "      <th>extra_runs</th>\n",
       "      <th>total_runs</th>\n",
       "      <th>is_wicket</th>\n",
       "    </tr>\n",
       "  </thead>\n",
       "  <tbody>\n",
       "    <tr>\n",
       "      <th>count</th>\n",
       "      <td>2.606110e+05</td>\n",
       "      <td>256796.000000</td>\n",
       "      <td>260611.000000</td>\n",
       "      <td>260611.000000</td>\n",
       "      <td>260611.000000</td>\n",
       "      <td>260611.000000</td>\n",
       "      <td>260611.000000</td>\n",
       "      <td>260611.000000</td>\n",
       "      <td>260611.000000</td>\n",
       "      <td>260611.000000</td>\n",
       "      <td>260611.000000</td>\n",
       "    </tr>\n",
       "    <tr>\n",
       "      <th>mean</th>\n",
       "      <td>9.069977e+05</td>\n",
       "      <td>17.279451</td>\n",
       "      <td>167.290406</td>\n",
       "      <td>19.846742</td>\n",
       "      <td>1.484105</td>\n",
       "      <td>9.198510</td>\n",
       "      <td>3.624486</td>\n",
       "      <td>1.265142</td>\n",
       "      <td>0.067783</td>\n",
       "      <td>1.332925</td>\n",
       "      <td>0.049626</td>\n",
       "    </tr>\n",
       "    <tr>\n",
       "      <th>std</th>\n",
       "      <td>3.680254e+05</td>\n",
       "      <td>21.600307</td>\n",
       "      <td>32.165944</td>\n",
       "      <td>1.224266</td>\n",
       "      <td>0.502665</td>\n",
       "      <td>5.683555</td>\n",
       "      <td>1.814899</td>\n",
       "      <td>1.639402</td>\n",
       "      <td>0.343152</td>\n",
       "      <td>1.626509</td>\n",
       "      <td>0.217171</td>\n",
       "    </tr>\n",
       "    <tr>\n",
       "      <th>min</th>\n",
       "      <td>3.359820e+05</td>\n",
       "      <td>1.000000</td>\n",
       "      <td>43.000000</td>\n",
       "      <td>5.000000</td>\n",
       "      <td>1.000000</td>\n",
       "      <td>0.000000</td>\n",
       "      <td>1.000000</td>\n",
       "      <td>0.000000</td>\n",
       "      <td>0.000000</td>\n",
       "      <td>0.000000</td>\n",
       "      <td>0.000000</td>\n",
       "    </tr>\n",
       "    <tr>\n",
       "      <th>25%</th>\n",
       "      <td>5.483330e+05</td>\n",
       "      <td>6.000000</td>\n",
       "      <td>148.000000</td>\n",
       "      <td>20.000000</td>\n",
       "      <td>1.000000</td>\n",
       "      <td>4.000000</td>\n",
       "      <td>2.000000</td>\n",
       "      <td>0.000000</td>\n",
       "      <td>0.000000</td>\n",
       "      <td>0.000000</td>\n",
       "      <td>0.000000</td>\n",
       "    </tr>\n",
       "    <tr>\n",
       "      <th>50%</th>\n",
       "      <td>9.809670e+05</td>\n",
       "      <td>8.000000</td>\n",
       "      <td>167.000000</td>\n",
       "      <td>20.000000</td>\n",
       "      <td>1.000000</td>\n",
       "      <td>9.000000</td>\n",
       "      <td>4.000000</td>\n",
       "      <td>1.000000</td>\n",
       "      <td>0.000000</td>\n",
       "      <td>1.000000</td>\n",
       "      <td>0.000000</td>\n",
       "    </tr>\n",
       "    <tr>\n",
       "      <th>75%</th>\n",
       "      <td>1.254066e+06</td>\n",
       "      <td>20.000000</td>\n",
       "      <td>188.000000</td>\n",
       "      <td>20.000000</td>\n",
       "      <td>2.000000</td>\n",
       "      <td>14.000000</td>\n",
       "      <td>5.000000</td>\n",
       "      <td>1.000000</td>\n",
       "      <td>0.000000</td>\n",
       "      <td>1.000000</td>\n",
       "      <td>0.000000</td>\n",
       "    </tr>\n",
       "    <tr>\n",
       "      <th>max</th>\n",
       "      <td>1.426312e+06</td>\n",
       "      <td>146.000000</td>\n",
       "      <td>288.000000</td>\n",
       "      <td>20.000000</td>\n",
       "      <td>6.000000</td>\n",
       "      <td>19.000000</td>\n",
       "      <td>11.000000</td>\n",
       "      <td>6.000000</td>\n",
       "      <td>7.000000</td>\n",
       "      <td>7.000000</td>\n",
       "      <td>1.000000</td>\n",
       "    </tr>\n",
       "  </tbody>\n",
       "</table>\n",
       "</div>"
      ],
      "text/plain": [
       "           match_id  result_margin    target_runs   target_overs  \\\n",
       "count  2.606110e+05  256796.000000  260611.000000  260611.000000   \n",
       "mean   9.069977e+05      17.279451     167.290406      19.846742   \n",
       "std    3.680254e+05      21.600307      32.165944       1.224266   \n",
       "min    3.359820e+05       1.000000      43.000000       5.000000   \n",
       "25%    5.483330e+05       6.000000     148.000000      20.000000   \n",
       "50%    9.809670e+05       8.000000     167.000000      20.000000   \n",
       "75%    1.254066e+06      20.000000     188.000000      20.000000   \n",
       "max    1.426312e+06     146.000000     288.000000      20.000000   \n",
       "\n",
       "              inning           over           ball   batsman_runs  \\\n",
       "count  260611.000000  260611.000000  260611.000000  260611.000000   \n",
       "mean        1.484105       9.198510       3.624486       1.265142   \n",
       "std         0.502665       5.683555       1.814899       1.639402   \n",
       "min         1.000000       0.000000       1.000000       0.000000   \n",
       "25%         1.000000       4.000000       2.000000       0.000000   \n",
       "50%         1.000000       9.000000       4.000000       1.000000   \n",
       "75%         2.000000      14.000000       5.000000       1.000000   \n",
       "max         6.000000      19.000000      11.000000       6.000000   \n",
       "\n",
       "          extra_runs     total_runs      is_wicket  \n",
       "count  260611.000000  260611.000000  260611.000000  \n",
       "mean        0.067783       1.332925       0.049626  \n",
       "std         0.343152       1.626509       0.217171  \n",
       "min         0.000000       0.000000       0.000000  \n",
       "25%         0.000000       0.000000       0.000000  \n",
       "50%         0.000000       1.000000       0.000000  \n",
       "75%         0.000000       1.000000       0.000000  \n",
       "max         7.000000       7.000000       1.000000  "
      ]
     },
     "execution_count": 13,
     "metadata": {},
     "output_type": "execute_result"
    }
   ],
   "source": [
    "df_merge.describe()"
   ]
  },
  {
   "cell_type": "code",
   "execution_count": 14,
   "metadata": {
    "execution": {
     "iopub.execute_input": "2025-08-10T08:59:46.333216Z",
     "iopub.status.busy": "2025-08-10T08:59:46.332846Z",
     "iopub.status.idle": "2025-08-10T08:59:46.378394Z",
     "shell.execute_reply": "2025-08-10T08:59:46.377322Z",
     "shell.execute_reply.started": "2025-08-10T08:59:46.333186Z"
    }
   },
   "outputs": [
    {
     "data": {
      "text/plain": [
       "Chennai Super Kings            57109\n",
       "Deccan Chargers                18073\n",
       "Delhi Capitals                 22162\n",
       "Delhi Daredevils               37448\n",
       "Gujarat Lions                   7111\n",
       "Gujarat Titans                 10795\n",
       "Kings XI Punjab                45129\n",
       "Kochi Tuskers Kerala            3196\n",
       "Kolkata Knight Riders          59177\n",
       "Lucknow Super Giants           10508\n",
       "Mumbai Indians                 62942\n",
       "Pune Warriors                  10837\n",
       "Punjab Kings                   13552\n",
       "Rajasthan Royals               52546\n",
       "Rising Pune Supergiant          3828\n",
       "Rising Pune Supergiants         3195\n",
       "Royal Challengers Bangalore    56435\n",
       "Royal Challengers Bengaluru     3619\n",
       "Sunrisers Hyderabad            43560\n",
       "Name: count, dtype: int64"
      ]
     },
     "execution_count": 14,
     "metadata": {},
     "output_type": "execute_result"
    }
   ],
   "source": [
    "df_merge['team1'].value_counts() + df_merge['team2'].value_counts()"
   ]
  },
  {
   "cell_type": "markdown",
   "metadata": {},
   "source": [
    "convert,\n",
    "1. Deccan Chargers => Sunrisers Hyderabad\n",
    "2. Delhi Daredevils => Delhi Capitals\n",
    "3. Gujarat Lions => Gujarat Titans\n",
    "4. Kings XI Punjab => Punjab Kings\n",
    "5. Royal Challengers Bangalore => Royal Challengers Bengaluru\n",
    "6. Pune Warriors => Rising Pune Supergiants\n",
    "7. Rising Pune Supergiant => Rising Pune Supergiants\n",
    "\n",
    "remove,\n",
    "1. Kochi Tuskers Kerala"
   ]
  },
  {
   "cell_type": "code",
   "execution_count": 15,
   "metadata": {
    "execution": {
     "iopub.execute_input": "2025-08-10T08:59:46.379720Z",
     "iopub.status.busy": "2025-08-10T08:59:46.379378Z",
     "iopub.status.idle": "2025-08-10T08:59:48.348536Z",
     "shell.execute_reply": "2025-08-10T08:59:48.347665Z",
     "shell.execute_reply.started": "2025-08-10T08:59:46.379692Z"
    }
   },
   "outputs": [],
   "source": [
    "df_merge.replace(['Deccan Chargers','Delhi Daredevils','Gujarat Lions','Kings XI Punjab','Royal Challengers Bangalore','Pune Warriors','Rising Pune Supergiant'],\n",
    "    ['Sunrisers Hyderabad','Delhi Capitals','Gujarat Titans','Punjab Kings','Royal Challengers Bengaluru','Rising Pune Supergiants','Rising Pune Supergiants'],inplace=True)\n",
    "df_merge = df_merge[df_merge['team1']!='Kochi Tuskers Kerala']\n",
    "df_merge = df_merge[df_merge['team2']!='Kochi Tuskers Kerala']"
   ]
  },
  {
   "cell_type": "code",
   "execution_count": 16,
   "metadata": {
    "execution": {
     "iopub.execute_input": "2025-08-10T08:59:48.349851Z",
     "iopub.status.busy": "2025-08-10T08:59:48.349584Z",
     "iopub.status.idle": "2025-08-10T08:59:48.387416Z",
     "shell.execute_reply": "2025-08-10T08:59:48.386479Z",
     "shell.execute_reply.started": "2025-08-10T08:59:48.349830Z"
    }
   },
   "outputs": [
    {
     "data": {
      "text/plain": [
       "['Mumbai Indians',\n",
       " 'Gujarat Titans',\n",
       " 'Rajasthan Royals',\n",
       " 'Delhi Capitals',\n",
       " 'Rising Pune Supergiants',\n",
       " 'Punjab Kings',\n",
       " 'Chennai Super Kings',\n",
       " 'Lucknow Super Giants',\n",
       " 'Sunrisers Hyderabad',\n",
       " 'Kolkata Knight Riders',\n",
       " 'Royal Challengers Bengaluru']"
      ]
     },
     "execution_count": 16,
     "metadata": {},
     "output_type": "execute_result"
    }
   ],
   "source": [
    "list(set(np.concatenate((df_merge['team2'].unique(),df_merge['team2'].unique()))))"
   ]
  },
  {
   "cell_type": "code",
   "execution_count": 17,
   "metadata": {
    "execution": {
     "iopub.execute_input": "2025-08-10T08:59:48.389029Z",
     "iopub.status.busy": "2025-08-10T08:59:48.388736Z",
     "iopub.status.idle": "2025-08-10T08:59:48.393343Z",
     "shell.execute_reply": "2025-08-10T08:59:48.392319Z",
     "shell.execute_reply.started": "2025-08-10T08:59:48.388999Z"
    }
   },
   "outputs": [],
   "source": [
    "# We have only included current playing teams\n",
    "teams = ['Kolkata Knight Riders',\n",
    " 'Sunrisers Hyderabad',\n",
    " 'Punjab Kings',\n",
    " 'Delhi Capitals',\n",
    " 'Gujarat Titans',\n",
    " 'Rajasthan Royals',\n",
    " 'Lucknow Super Giants',\n",
    " 'Chennai Super Kings',\n",
    " 'Mumbai Indians',\n",
    " 'Royal Challengers Bengaluru']"
   ]
  },
  {
   "cell_type": "code",
   "execution_count": 18,
   "metadata": {
    "execution": {
     "iopub.execute_input": "2025-08-10T08:59:48.394614Z",
     "iopub.status.busy": "2025-08-10T08:59:48.394354Z",
     "iopub.status.idle": "2025-08-10T08:59:48.519406Z",
     "shell.execute_reply": "2025-08-10T08:59:48.518211Z",
     "shell.execute_reply.started": "2025-08-10T08:59:48.394587Z"
    }
   },
   "outputs": [],
   "source": [
    "# We only include data where super over did not occur\n",
    "df_merge = df_merge[df_merge['super_over']=='N']"
   ]
  },
  {
   "cell_type": "code",
   "execution_count": 19,
   "metadata": {
    "execution": {
     "iopub.execute_input": "2025-08-10T08:59:48.520980Z",
     "iopub.status.busy": "2025-08-10T08:59:48.520662Z",
     "iopub.status.idle": "2025-08-10T08:59:48.620192Z",
     "shell.execute_reply": "2025-08-10T08:59:48.619248Z",
     "shell.execute_reply.started": "2025-08-10T08:59:48.520954Z"
    }
   },
   "outputs": [],
   "source": [
    "# We only include data where the result is not based on the D/L method\n",
    "df_merge = df_merge[df_merge['method']!='D/L']"
   ]
  },
  {
   "cell_type": "code",
   "execution_count": 20,
   "metadata": {
    "execution": {
     "iopub.execute_input": "2025-08-10T08:59:48.621771Z",
     "iopub.status.busy": "2025-08-10T08:59:48.621524Z",
     "iopub.status.idle": "2025-08-10T08:59:48.640442Z",
     "shell.execute_reply": "2025-08-10T08:59:48.639195Z",
     "shell.execute_reply.started": "2025-08-10T08:59:48.621753Z"
    }
   },
   "outputs": [
    {
     "data": {
      "text/plain": [
       "array(['Bangalore', 'Chandigarh', 'Delhi', 'Mumbai', 'Kolkata', 'Jaipur',\n",
       "       'Hyderabad', 'Chennai', 'Cape Town', 'Port Elizabeth', 'Durban',\n",
       "       'Centurion', 'East London', 'Johannesburg', 'Kimberley',\n",
       "       'Bloemfontein', 'Ahmedabad', 'Cuttack', 'Nagpur', 'Dharamsala',\n",
       "       'Visakhapatnam', 'Pune', 'Raipur', 'Ranchi', 'Abu Dhabi',\n",
       "       'Sharjah', 'Dubai', 'Rajkot', 'Kanpur', 'Indore', 'Bengaluru',\n",
       "       'Navi Mumbai', 'Lucknow', 'Guwahati', 'Mohali'], dtype=object)"
      ]
     },
     "execution_count": 20,
     "metadata": {},
     "output_type": "execute_result"
    }
   ],
   "source": [
    "df_merge['city'].unique()"
   ]
  },
  {
   "cell_type": "code",
   "execution_count": 21,
   "metadata": {
    "execution": {
     "iopub.execute_input": "2025-08-10T08:59:48.641839Z",
     "iopub.status.busy": "2025-08-10T08:59:48.641531Z",
     "iopub.status.idle": "2025-08-10T08:59:48.651227Z",
     "shell.execute_reply": "2025-08-10T08:59:48.650288Z",
     "shell.execute_reply.started": "2025-08-10T08:59:48.641818Z"
    }
   },
   "outputs": [],
   "source": [
    "# We have only included cities where the match is likely to happen.\n",
    "host_cities = ['Bangalore', 'Chandigarh', 'Delhi', 'Mumbai', 'Kolkata', 'Jaipur',\n",
    "       'Hyderabad', 'Chennai', 'Ahmedabad', 'Cuttack', 'Nagpur', 'Dharamsala',\n",
    "       'Visakhapatnam', 'Pune', 'Raipur', 'Ranchi', 'Abu Dhabi',\n",
    "       'Rajkot', 'Kanpur', 'Indore', 'Bengaluru', 'Dubai', 'Sharjah',\n",
    "       'Navi Mumbai', 'Lucknow', 'Guwahati', 'Mohali']"
   ]
  },
  {
   "cell_type": "code",
   "execution_count": 22,
   "metadata": {
    "execution": {
     "iopub.execute_input": "2025-08-10T08:59:48.652543Z",
     "iopub.status.busy": "2025-08-10T08:59:48.652231Z",
     "iopub.status.idle": "2025-08-10T08:59:48.674211Z",
     "shell.execute_reply": "2025-08-10T08:59:48.673243Z",
     "shell.execute_reply.started": "2025-08-10T08:59:48.652514Z"
    }
   },
   "outputs": [
    {
     "data": {
      "text/plain": [
       "match_type\n",
       "League                1026\n",
       "Final                   17\n",
       "Qualifier 1             14\n",
       "Qualifier 2             14\n",
       "Eliminator              11\n",
       "Semi Final               6\n",
       "Elimination Final        3\n",
       "3rd Place Play-Off       1\n",
       "Name: count, dtype: int64"
      ]
     },
     "execution_count": 22,
     "metadata": {},
     "output_type": "execute_result"
    }
   ],
   "source": [
    "df_matches['match_type'].value_counts()"
   ]
  },
  {
   "cell_type": "code",
   "execution_count": 23,
   "metadata": {
    "execution": {
     "iopub.execute_input": "2025-08-10T08:59:48.675542Z",
     "iopub.status.busy": "2025-08-10T08:59:48.675221Z",
     "iopub.status.idle": "2025-08-10T08:59:48.691195Z",
     "shell.execute_reply": "2025-08-10T08:59:48.690162Z",
     "shell.execute_reply.started": "2025-08-10T08:59:48.675513Z"
    }
   },
   "outputs": [],
   "source": [
    "match_type = ['League','Eliminator','Qualifier 1','Qualifier 2','Final']"
   ]
  },
  {
   "cell_type": "code",
   "execution_count": 24,
   "metadata": {
    "execution": {
     "iopub.execute_input": "2025-08-10T08:59:48.692489Z",
     "iopub.status.busy": "2025-08-10T08:59:48.692178Z",
     "iopub.status.idle": "2025-08-10T08:59:50.096185Z",
     "shell.execute_reply": "2025-08-10T08:59:50.095202Z",
     "shell.execute_reply.started": "2025-08-10T08:59:48.692467Z"
    }
   },
   "outputs": [],
   "source": [
    "# is_ball_faced => If the ball is not wide, the batsman must have faced that ball.\n",
    "df_merge['is_ball_faced'] = df_merge[['match_id','inning','batter','extras_type']].apply(lambda row:1 if row['extras_type']!='wides' else 0, axis=1)\n",
    "\n",
    "# batter_balls_faced => The balls played by the batsman up to this ball\n",
    "df_merge['batter_balls_faced'] = df_merge[['match_id','inning','batter','is_ball_faced']].groupby(['match_id','inning','batter']).cumsum()"
   ]
  },
  {
   "cell_type": "code",
   "execution_count": 25,
   "metadata": {
    "execution": {
     "iopub.execute_input": "2025-08-10T08:59:50.097411Z",
     "iopub.status.busy": "2025-08-10T08:59:50.097087Z",
     "iopub.status.idle": "2025-08-10T08:59:52.900084Z",
     "shell.execute_reply": "2025-08-10T08:59:52.899236Z",
     "shell.execute_reply.started": "2025-08-10T08:59:50.097379Z"
    }
   },
   "outputs": [],
   "source": [
    "# batter_total_runs => The runs scored by the batsman up to this ball\n",
    "df_merge['batter_total_runs'] = df_merge[['match_id','inning','batter','batsman_runs']].groupby(['match_id','inning','batter']).cumsum()\n",
    "\n",
    "# batter_strikerate => (runs*100/balls)\n",
    "df_merge['batter_strikerate'] = df_merge.apply(lambda row: round(row['batter_total_runs']*100/row['batter_balls_faced'],2) if row['batter_balls_faced']>0 else 0.0, axis=1)"
   ]
  },
  {
   "cell_type": "code",
   "execution_count": 26,
   "metadata": {
    "execution": {
     "iopub.execute_input": "2025-08-10T08:59:52.901238Z",
     "iopub.status.busy": "2025-08-10T08:59:52.900952Z",
     "iopub.status.idle": "2025-08-10T08:59:54.666859Z",
     "shell.execute_reply": "2025-08-10T08:59:54.666145Z",
     "shell.execute_reply.started": "2025-08-10T08:59:52.901218Z"
    }
   },
   "outputs": [],
   "source": [
    "# valid_ball => ball is valid if it is not 'wide' or 'noball'\n",
    "df_merge['valid_ball'] = df_merge[['match_id','inning','batter','extras_type']].apply(lambda row:1 if (row['extras_type']!='wides' and row['extras_type']!='noballs') else 0, axis=1)\n",
    "\n",
    "# total_valid_balls => total valid_ball bowled upto this ball\n",
    "df_merge['total_valid_balls'] = df_merge[['match_id','inning','valid_ball']].groupby(['match_id','inning']).cumsum()"
   ]
  },
  {
   "cell_type": "code",
   "execution_count": 27,
   "metadata": {
    "execution": {
     "iopub.execute_input": "2025-08-10T08:59:54.668271Z",
     "iopub.status.busy": "2025-08-10T08:59:54.667924Z",
     "iopub.status.idle": "2025-08-10T08:59:54.675193Z",
     "shell.execute_reply": "2025-08-10T08:59:54.674284Z",
     "shell.execute_reply.started": "2025-08-10T08:59:54.668243Z"
    }
   },
   "outputs": [],
   "source": [
    "# remainning_balls => number of balls remaining from the target over\n",
    "df_merge['remaining_balls'] = df_merge['target_overs']*6-df_merge['total_valid_balls']"
   ]
  },
  {
   "cell_type": "code",
   "execution_count": 28,
   "metadata": {
    "execution": {
     "iopub.execute_input": "2025-08-10T08:59:54.676340Z",
     "iopub.status.busy": "2025-08-10T08:59:54.676077Z",
     "iopub.status.idle": "2025-08-10T08:59:54.714409Z",
     "shell.execute_reply": "2025-08-10T08:59:54.713535Z",
     "shell.execute_reply.started": "2025-08-10T08:59:54.676321Z"
    }
   },
   "outputs": [],
   "source": [
    "# current_score => current score of the team\n",
    "df_merge['current_score'] = df_merge[['match_id','inning','total_runs']].groupby(['match_id','inning']).cumsum()"
   ]
  },
  {
   "cell_type": "code",
   "execution_count": 29,
   "metadata": {
    "execution": {
     "iopub.execute_input": "2025-08-10T08:59:54.715799Z",
     "iopub.status.busy": "2025-08-10T08:59:54.715481Z",
     "iopub.status.idle": "2025-08-10T08:59:54.721959Z",
     "shell.execute_reply": "2025-08-10T08:59:54.721018Z",
     "shell.execute_reply.started": "2025-08-10T08:59:54.715772Z"
    }
   },
   "outputs": [],
   "source": [
    "# remainning_balls => number of runs remaining from the target runs\n",
    "df_merge['remaining_runs'] = df_merge['target_runs']-df_merge['current_score']"
   ]
  },
  {
   "cell_type": "code",
   "execution_count": 30,
   "metadata": {
    "execution": {
     "iopub.execute_input": "2025-08-10T08:59:54.723531Z",
     "iopub.status.busy": "2025-08-10T08:59:54.723178Z",
     "iopub.status.idle": "2025-08-10T08:59:54.760050Z",
     "shell.execute_reply": "2025-08-10T08:59:54.759000Z",
     "shell.execute_reply.started": "2025-08-10T08:59:54.723504Z"
    }
   },
   "outputs": [],
   "source": [
    "# How many wickets lost so far?\n",
    "df_merge['wickets'] = df_merge[['match_id','inning','is_wicket']].groupby(['match_id','inning']).cumsum()"
   ]
  },
  {
   "cell_type": "code",
   "execution_count": 31,
   "metadata": {
    "execution": {
     "iopub.execute_input": "2025-08-10T08:59:54.761374Z",
     "iopub.status.busy": "2025-08-10T08:59:54.761009Z",
     "iopub.status.idle": "2025-08-10T08:59:57.709213Z",
     "shell.execute_reply": "2025-08-10T08:59:57.708202Z",
     "shell.execute_reply.started": "2025-08-10T08:59:54.761352Z"
    }
   },
   "outputs": [],
   "source": [
    "# crr (current run rate) =>  current_score/total_valid_balls\n",
    "df_merge['crr'] = df_merge.apply(lambda row: round(row['current_score']/row['total_valid_balls']*6,2) if row['total_valid_balls']>0 else 0.0, axis=1)"
   ]
  },
  {
   "cell_type": "code",
   "execution_count": 32,
   "metadata": {
    "execution": {
     "iopub.execute_input": "2025-08-10T08:59:57.710297Z",
     "iopub.status.busy": "2025-08-10T08:59:57.710014Z",
     "iopub.status.idle": "2025-08-10T09:00:00.558040Z",
     "shell.execute_reply": "2025-08-10T09:00:00.557307Z",
     "shell.execute_reply.started": "2025-08-10T08:59:57.710274Z"
    }
   },
   "outputs": [],
   "source": [
    "# rrr (require run rate) =>  remaining_runs/remaining_balls\n",
    "df_merge['rrr'] = df_merge.apply(lambda row: round(row['remaining_runs']/row['remaining_balls']*6,2) if row['remaining_balls']>0 else 0.0, axis=1)"
   ]
  },
  {
   "cell_type": "code",
   "execution_count": 33,
   "metadata": {
    "execution": {
     "iopub.execute_input": "2025-08-10T09:00:00.559422Z",
     "iopub.status.busy": "2025-08-10T09:00:00.559021Z",
     "iopub.status.idle": "2025-08-10T09:00:25.583136Z",
     "shell.execute_reply": "2025-08-10T09:00:25.581881Z",
     "shell.execute_reply.started": "2025-08-10T09:00:00.559393Z"
    }
   },
   "outputs": [],
   "source": [
    "# compute non-striker's data\n",
    "\n",
    "# Create a dictionary to store non-striker stats\n",
    "non_striker_dict = {}\n",
    "\n",
    "# Initialize columns in the DataFrame\n",
    "df_merge['non_striker_balls_faced'] = 0\n",
    "df_merge['non_striker_runs'] = 0\n",
    "\n",
    "# Iterate through each match and inning\n",
    "for (match_id, inning), group in df_merge.groupby(['match_id', 'inning']):\n",
    "    batter_stats = {}\n",
    "    \n",
    "    for idx, row in group.iterrows():\n",
    "        batter = row['batter']\n",
    "        non_striker = row['non_striker']\n",
    "        \n",
    "        # Update current batter's stats\n",
    "        batter_stats[batter] = {'balls': row['batter_balls_faced'], 'runs': row['batter_total_runs']}\n",
    "        \n",
    "        # Set non-striker stats for this row\n",
    "        if non_striker not in batter_stats:\n",
    "            batter_stats[batter] = {'balls': row['batter_balls_faced'], 'runs': row['batter_total_runs']}\n",
    "\n",
    "        if non_striker in batter_stats:\n",
    "            df_merge.at[idx, 'non_striker_balls_faced'] = batter_stats[non_striker]['balls']\n",
    "            df_merge.at[idx, 'non_striker_runs'] = batter_stats[non_striker]['runs']"
   ]
  },
  {
   "cell_type": "code",
   "execution_count": 34,
   "metadata": {
    "execution": {
     "iopub.execute_input": "2025-08-10T09:00:25.584534Z",
     "iopub.status.busy": "2025-08-10T09:00:25.584180Z",
     "iopub.status.idle": "2025-08-10T09:00:28.489010Z",
     "shell.execute_reply": "2025-08-10T09:00:28.488234Z",
     "shell.execute_reply.started": "2025-08-10T09:00:25.584503Z"
    }
   },
   "outputs": [],
   "source": [
    "df_merge['non_striker_strikerate'] = df_merge.apply(lambda row: round(row['non_striker_runs']*100/row['non_striker_balls_faced'],2) if row['non_striker_balls_faced']>0 else 0.0, axis=1)"
   ]
  },
  {
   "cell_type": "code",
   "execution_count": 36,
   "metadata": {
    "execution": {
     "iopub.execute_input": "2025-08-10T09:00:28.519562Z",
     "iopub.status.busy": "2025-08-10T09:00:28.519294Z",
     "iopub.status.idle": "2025-08-10T09:00:30.701081Z",
     "shell.execute_reply": "2025-08-10T09:00:30.700088Z",
     "shell.execute_reply.started": "2025-08-10T09:00:28.519541Z"
    }
   },
   "outputs": [],
   "source": [
    "# batting_team_win => Does batting team win?\n",
    "df_merge['batting_team_win'] = df_merge.apply(lambda row: 1 if row['winner']==row['batting_team'] else 0,axis=1)"
   ]
  },
  {
   "cell_type": "code",
   "execution_count": 37,
   "metadata": {
    "execution": {
     "iopub.execute_input": "2025-08-10T09:00:30.702683Z",
     "iopub.status.busy": "2025-08-10T09:00:30.702405Z",
     "iopub.status.idle": "2025-08-10T09:00:30.708962Z",
     "shell.execute_reply": "2025-08-10T09:00:30.707959Z",
     "shell.execute_reply.started": "2025-08-10T09:00:30.702660Z"
    }
   },
   "outputs": [
    {
     "data": {
      "text/plain": [
       "Index(['match_id', 'season', 'city', 'date', 'match_type', 'player_of_match',\n",
       "       'venue', 'team1', 'team2', 'toss_winner', 'toss_decision', 'winner',\n",
       "       'result', 'result_margin', 'target_runs', 'target_overs', 'super_over',\n",
       "       'method', 'umpire1', 'umpire2', 'inning', 'batting_team',\n",
       "       'bowling_team', 'over', 'ball', 'batter', 'bowler', 'non_striker',\n",
       "       'batsman_runs', 'extra_runs', 'total_runs', 'extras_type', 'is_wicket',\n",
       "       'player_dismissed', 'dismissal_kind', 'fielder', 'is_ball_faced',\n",
       "       'batter_balls_faced', 'batter_total_runs', 'batter_strikerate',\n",
       "       'valid_ball', 'total_valid_balls', 'remaining_balls', 'current_score',\n",
       "       'remaining_runs', 'wickets', 'crr', 'rrr', 'non_striker_balls_faced',\n",
       "       'non_striker_runs', 'non_striker_strikerate', 'batting_team_win'],\n",
       "      dtype='object')"
      ]
     },
     "execution_count": 37,
     "metadata": {},
     "output_type": "execute_result"
    }
   ],
   "source": [
    "df_merge.keys()"
   ]
  },
  {
   "cell_type": "code",
   "execution_count": 38,
   "metadata": {
    "execution": {
     "iopub.execute_input": "2025-08-10T09:00:30.710264Z",
     "iopub.status.busy": "2025-08-10T09:00:30.709936Z",
     "iopub.status.idle": "2025-08-10T09:00:30.803757Z",
     "shell.execute_reply": "2025-08-10T09:00:30.802665Z",
     "shell.execute_reply.started": "2025-08-10T09:00:30.710241Z"
    }
   },
   "outputs": [
    {
     "data": {
      "text/html": [
       "<div>\n",
       "<style scoped>\n",
       "    .dataframe tbody tr th:only-of-type {\n",
       "        vertical-align: middle;\n",
       "    }\n",
       "\n",
       "    .dataframe tbody tr th {\n",
       "        vertical-align: top;\n",
       "    }\n",
       "\n",
       "    .dataframe thead th {\n",
       "        text-align: right;\n",
       "    }\n",
       "</style>\n",
       "<table border=\"1\" class=\"dataframe\">\n",
       "  <thead>\n",
       "    <tr style=\"text-align: right;\">\n",
       "      <th></th>\n",
       "      <th>city</th>\n",
       "      <th>match_type</th>\n",
       "      <th>target_runs</th>\n",
       "      <th>batting_team</th>\n",
       "      <th>bowling_team</th>\n",
       "      <th>current_score</th>\n",
       "      <th>wickets</th>\n",
       "      <th>crr</th>\n",
       "      <th>rrr</th>\n",
       "      <th>batter_total_runs</th>\n",
       "      <th>batter_strikerate</th>\n",
       "      <th>non_striker_runs</th>\n",
       "      <th>non_striker_strikerate</th>\n",
       "      <th>batting_team_win</th>\n",
       "    </tr>\n",
       "  </thead>\n",
       "  <tbody>\n",
       "    <tr>\n",
       "      <th>0</th>\n",
       "      <td>Bangalore</td>\n",
       "      <td>League</td>\n",
       "      <td>223.0</td>\n",
       "      <td>Kolkata Knight Riders</td>\n",
       "      <td>Royal Challengers Bengaluru</td>\n",
       "      <td>1</td>\n",
       "      <td>0</td>\n",
       "      <td>6.0</td>\n",
       "      <td>11.19</td>\n",
       "      <td>0</td>\n",
       "      <td>0.0</td>\n",
       "      <td>0</td>\n",
       "      <td>0.0</td>\n",
       "      <td>1</td>\n",
       "    </tr>\n",
       "    <tr>\n",
       "      <th>1</th>\n",
       "      <td>Bangalore</td>\n",
       "      <td>League</td>\n",
       "      <td>223.0</td>\n",
       "      <td>Kolkata Knight Riders</td>\n",
       "      <td>Royal Challengers Bengaluru</td>\n",
       "      <td>1</td>\n",
       "      <td>0</td>\n",
       "      <td>3.0</td>\n",
       "      <td>11.29</td>\n",
       "      <td>0</td>\n",
       "      <td>0.0</td>\n",
       "      <td>0</td>\n",
       "      <td>0.0</td>\n",
       "      <td>1</td>\n",
       "    </tr>\n",
       "    <tr>\n",
       "      <th>2</th>\n",
       "      <td>Bangalore</td>\n",
       "      <td>League</td>\n",
       "      <td>223.0</td>\n",
       "      <td>Kolkata Knight Riders</td>\n",
       "      <td>Royal Challengers Bengaluru</td>\n",
       "      <td>2</td>\n",
       "      <td>0</td>\n",
       "      <td>6.0</td>\n",
       "      <td>11.24</td>\n",
       "      <td>0</td>\n",
       "      <td>0.0</td>\n",
       "      <td>0</td>\n",
       "      <td>0.0</td>\n",
       "      <td>1</td>\n",
       "    </tr>\n",
       "    <tr>\n",
       "      <th>3</th>\n",
       "      <td>Bangalore</td>\n",
       "      <td>League</td>\n",
       "      <td>223.0</td>\n",
       "      <td>Kolkata Knight Riders</td>\n",
       "      <td>Royal Challengers Bengaluru</td>\n",
       "      <td>2</td>\n",
       "      <td>0</td>\n",
       "      <td>4.0</td>\n",
       "      <td>11.33</td>\n",
       "      <td>0</td>\n",
       "      <td>0.0</td>\n",
       "      <td>0</td>\n",
       "      <td>0.0</td>\n",
       "      <td>1</td>\n",
       "    </tr>\n",
       "    <tr>\n",
       "      <th>4</th>\n",
       "      <td>Bangalore</td>\n",
       "      <td>League</td>\n",
       "      <td>223.0</td>\n",
       "      <td>Kolkata Knight Riders</td>\n",
       "      <td>Royal Challengers Bengaluru</td>\n",
       "      <td>2</td>\n",
       "      <td>0</td>\n",
       "      <td>3.0</td>\n",
       "      <td>11.43</td>\n",
       "      <td>0</td>\n",
       "      <td>0.0</td>\n",
       "      <td>0</td>\n",
       "      <td>0.0</td>\n",
       "      <td>1</td>\n",
       "    </tr>\n",
       "  </tbody>\n",
       "</table>\n",
       "</div>"
      ],
      "text/plain": [
       "        city match_type  target_runs           batting_team  \\\n",
       "0  Bangalore     League        223.0  Kolkata Knight Riders   \n",
       "1  Bangalore     League        223.0  Kolkata Knight Riders   \n",
       "2  Bangalore     League        223.0  Kolkata Knight Riders   \n",
       "3  Bangalore     League        223.0  Kolkata Knight Riders   \n",
       "4  Bangalore     League        223.0  Kolkata Knight Riders   \n",
       "\n",
       "                  bowling_team  current_score  wickets  crr    rrr  \\\n",
       "0  Royal Challengers Bengaluru              1        0  6.0  11.19   \n",
       "1  Royal Challengers Bengaluru              1        0  3.0  11.29   \n",
       "2  Royal Challengers Bengaluru              2        0  6.0  11.24   \n",
       "3  Royal Challengers Bengaluru              2        0  4.0  11.33   \n",
       "4  Royal Challengers Bengaluru              2        0  3.0  11.43   \n",
       "\n",
       "   batter_total_runs  batter_strikerate  non_striker_runs  \\\n",
       "0                  0                0.0                 0   \n",
       "1                  0                0.0                 0   \n",
       "2                  0                0.0                 0   \n",
       "3                  0                0.0                 0   \n",
       "4                  0                0.0                 0   \n",
       "\n",
       "   non_striker_strikerate  batting_team_win  \n",
       "0                     0.0                 1  \n",
       "1                     0.0                 1  \n",
       "2                     0.0                 1  \n",
       "3                     0.0                 1  \n",
       "4                     0.0                 1  "
      ]
     },
     "execution_count": 38,
     "metadata": {},
     "output_type": "execute_result"
    }
   ],
   "source": [
    "df_final = df_merge[['city','match_type','target_runs','batting_team','bowling_team','current_score','wickets','crr','rrr','batter_total_runs',\n",
    "          'batter_strikerate','non_striker_runs','non_striker_strikerate','batting_team_win']].copy()\n",
    "df_final.head()"
   ]
  },
  {
   "cell_type": "code",
   "execution_count": 39,
   "metadata": {
    "execution": {
     "iopub.execute_input": "2025-08-10T09:00:30.805191Z",
     "iopub.status.busy": "2025-08-10T09:00:30.804869Z",
     "iopub.status.idle": "2025-08-10T09:00:30.873240Z",
     "shell.execute_reply": "2025-08-10T09:00:30.872077Z",
     "shell.execute_reply.started": "2025-08-10T09:00:30.805158Z"
    }
   },
   "outputs": [
    {
     "data": {
      "text/plain": [
       "city                      0\n",
       "match_type                0\n",
       "target_runs               0\n",
       "batting_team              0\n",
       "bowling_team              0\n",
       "current_score             0\n",
       "wickets                   0\n",
       "crr                       0\n",
       "rrr                       0\n",
       "batter_total_runs         0\n",
       "batter_strikerate         0\n",
       "non_striker_runs          0\n",
       "non_striker_strikerate    0\n",
       "batting_team_win          0\n",
       "dtype: int64"
      ]
     },
     "execution_count": 39,
     "metadata": {},
     "output_type": "execute_result"
    }
   ],
   "source": [
    "df_final.isnull().sum()"
   ]
  },
  {
   "cell_type": "code",
   "execution_count": 40,
   "metadata": {
    "execution": {
     "iopub.execute_input": "2025-08-10T09:00:30.878773Z",
     "iopub.status.busy": "2025-08-10T09:00:30.878454Z",
     "iopub.status.idle": "2025-08-10T09:00:30.885517Z",
     "shell.execute_reply": "2025-08-10T09:00:30.884097Z",
     "shell.execute_reply.started": "2025-08-10T09:00:30.878750Z"
    }
   },
   "outputs": [
    {
     "data": {
      "text/plain": [
       "(250331, 14)"
      ]
     },
     "execution_count": 40,
     "metadata": {},
     "output_type": "execute_result"
    }
   ],
   "source": [
    "df_final.shape"
   ]
  },
  {
   "cell_type": "code",
   "execution_count": 41,
   "metadata": {
    "execution": {
     "iopub.execute_input": "2025-08-10T09:00:30.887009Z",
     "iopub.status.busy": "2025-08-10T09:00:30.886666Z",
     "iopub.status.idle": "2025-08-10T09:00:31.558074Z",
     "shell.execute_reply": "2025-08-10T09:00:31.557045Z",
     "shell.execute_reply.started": "2025-08-10T09:00:30.886978Z"
    }
   },
   "outputs": [
    {
     "data": {
      "text/plain": [
       "<Axes: >"
      ]
     },
     "execution_count": 41,
     "metadata": {},
     "output_type": "execute_result"
    },
    {
     "data": {
      "image/png": "[encoded data removed]",
      "text/plain": [
       "<Figure size 640x480 with 2 Axes>"
      ]
     },
     "metadata": {},
     "output_type": "display_data"
    }
   ],
   "source": [
    "corr = df_final.corr(numeric_only=True)\n",
    "sns.heatmap(corr,annot=True,linewidths=0.1)"
   ]
  },
  {
   "cell_type": "code",
   "execution_count": 42,
   "metadata": {
    "execution": {
     "iopub.execute_input": "2025-08-10T09:00:31.559837Z",
     "iopub.status.busy": "2025-08-10T09:00:31.559486Z",
     "iopub.status.idle": "2025-08-10T09:00:31.566419Z",
     "shell.execute_reply": "2025-08-10T09:00:31.565389Z",
     "shell.execute_reply.started": "2025-08-10T09:00:31.559806Z"
    }
   },
   "outputs": [
    {
     "data": {
      "text/plain": [
       "Index(['city', 'match_type', 'target_runs', 'batting_team', 'bowling_team',\n",
       "       'current_score', 'wickets', 'crr', 'rrr', 'batter_total_runs',\n",
       "       'batter_strikerate', 'non_striker_runs', 'non_striker_strikerate',\n",
       "       'batting_team_win'],\n",
       "      dtype='object')"
      ]
     },
     "execution_count": 42,
     "metadata": {},
     "output_type": "execute_result"
    }
   ],
   "source": [
    "df_final.keys()"
   ]
  },
  {
   "cell_type": "code",
   "execution_count": 43,
   "metadata": {
    "execution": {
     "iopub.execute_input": "2025-08-10T09:00:31.567593Z",
     "iopub.status.busy": "2025-08-10T09:00:31.567310Z",
     "iopub.status.idle": "2025-08-10T09:00:31.650087Z",
     "shell.execute_reply": "2025-08-10T09:00:31.649024Z",
     "shell.execute_reply.started": "2025-08-10T09:00:31.567565Z"
    }
   },
   "outputs": [
    {
     "name": "stdout",
     "output_type": "stream",
     "text": [
      "<class 'pandas.core.frame.DataFrame'>\n",
      "Index: 250331 entries, 0 to 260610\n",
      "Data columns (total 14 columns):\n",
      " #   Column                  Non-Null Count   Dtype  \n",
      "---  ------                  --------------   -----  \n",
      " 0   city                    250331 non-null  object \n",
      " 1   match_type              250331 non-null  object \n",
      " 2   target_runs             250331 non-null  float64\n",
      " 3   batting_team            250331 non-null  object \n",
      " 4   bowling_team            250331 non-null  object \n",
      " 5   current_score           250331 non-null  int64  \n",
      " 6   wickets                 250331 non-null  int64  \n",
      " 7   crr                     250331 non-null  float64\n",
      " 8   rrr                     250331 non-null  float64\n",
      " 9   batter_total_runs       250331 non-null  int64  \n",
      " 10  batter_strikerate       250331 non-null  float64\n",
      " 11  non_striker_runs        250331 non-null  int64  \n",
      " 12  non_striker_strikerate  250331 non-null  float64\n",
      " 13  batting_team_win        250331 non-null  int64  \n",
      "dtypes: float64(5), int64(5), object(4)\n",
      "memory usage: 36.7+ MB\n"
     ]
    }
   ],
   "source": [
    "df_final.info()"
   ]
  },
  {
   "cell_type": "code",
   "execution_count": 44,
   "metadata": {
    "execution": {
     "iopub.execute_input": "2025-08-10T09:00:31.651231Z",
     "iopub.status.busy": "2025-08-10T09:00:31.650950Z",
     "iopub.status.idle": "2025-08-10T09:00:31.714431Z",
     "shell.execute_reply": "2025-08-10T09:00:31.713476Z",
     "shell.execute_reply.started": "2025-08-10T09:00:31.651207Z"
    }
   },
   "outputs": [],
   "source": [
    "df_final = df_final.sample(frac=1, random_state=42).reset_index(drop=True)"
   ]
  },
  {
   "cell_type": "markdown",
   "metadata": {},
   "source": [
    "<h1>Random Forest Classifier</h1>"
   ]
  },
  {
   "cell_type": "code",
   "execution_count": 45,
   "metadata": {
    "execution": {
     "iopub.execute_input": "2025-08-10T09:00:31.715671Z",
     "iopub.status.busy": "2025-08-10T09:00:31.715392Z",
     "iopub.status.idle": "2025-08-10T09:03:15.262142Z",
     "shell.execute_reply": "2025-08-10T09:03:15.261154Z",
     "shell.execute_reply.started": "2025-08-10T09:00:31.715649Z"
    }
   },
   "outputs": [
    {
     "name": "stdout",
     "output_type": "stream",
     "text": [
      "Accuracy: 0.9791\n"
     ]
    }
   ],
   "source": [
    "from sklearn.pipeline import Pipeline\n",
    "from sklearn.compose import ColumnTransformer\n",
    "from sklearn.preprocessing import OneHotEncoder, StandardScaler\n",
    "from sklearn.ensemble import RandomForestClassifier\n",
    "from sklearn.model_selection import train_test_split\n",
    "\n",
    "# Define features and target\n",
    "X = df_final.drop(\"batting_team_win\", axis=1)\n",
    "y = df_final[\"batting_team_win\"]\n",
    "\n",
    "# Identify column types\n",
    "categorical_cols = [\"city\", \"match_type\", \"batting_team\", \"bowling_team\"]\n",
    "numerical_cols = [\"target_runs\", \"current_score\", \"wickets\", \"crr\", \"rrr\",\n",
    "                  \"batter_total_runs\", \"batter_strikerate\",\n",
    "                  \"non_striker_runs\", \"non_striker_strikerate\"]\n",
    "\n",
    "# Preprocessor for numerical and categorical\n",
    "preprocessor = ColumnTransformer([\n",
    "    (\"num\", StandardScaler(), numerical_cols),\n",
    "    (\"cat\", OneHotEncoder(handle_unknown='ignore'), categorical_cols)\n",
    "])\n",
    "\n",
    "# Final pipeline\n",
    "pipeline = Pipeline([\n",
    "    (\"preprocess\", preprocessor),\n",
    "    (\"classifier\", RandomForestClassifier(n_estimators=50,max_depth=25,random_state=42)\n",
    ")\n",
    "])\n",
    "\n",
    "# Train-test split\n",
    "X_train, X_test, y_train, y_test = train_test_split(X, y, test_size=0.2, stratify=y, random_state=42)\n",
    "\n",
    "# Fit the model\n",
    "pipeline.fit(X_train, y_train)\n",
    "\n",
    "# Evaluate\n",
    "accuracy = pipeline.score(X_test, y_test)\n",
    "print(f\"Accuracy: {accuracy:.4f}\")"
   ]
  },
  {
   "cell_type": "code",
   "execution_count": 49,
   "metadata": {
    "execution": {
     "iopub.execute_input": "2025-08-10T09:03:15.315053Z",
     "iopub.status.busy": "2025-08-10T09:03:15.314742Z",
     "iopub.status.idle": "2025-08-10T09:03:15.332530Z",
     "shell.execute_reply": "2025-08-10T09:03:15.331295Z",
     "shell.execute_reply.started": "2025-08-10T09:03:15.315030Z"
    }
   },
   "outputs": [],
   "source": [
    "sample = pd.DataFrame([{\n",
    "    'city': 'Mumbai',\n",
    "    'match_type': 'League',\n",
    "    'target_runs': 180,\n",
    "    'batting_team': 'Mumbai Indians',\n",
    "    'bowling_team': 'Chennai Super Kings',\n",
    "    'current_score': 108,\n",
    "    'wickets': 3,\n",
    "    'crr': 9.0,\n",
    "    'rrr': 9.0,\n",
    "    'batter_total_runs': 50,\n",
    "    'batter_strikerate': 200.0,\n",
    "    'non_striker_runs': 15,\n",
    "    'non_striker_strikerate': 150.0\n",
    "}])"
   ]
  },
  {
   "cell_type": "code",
   "execution_count": 50,
   "metadata": {
    "execution": {
     "iopub.execute_input": "2025-08-10T09:03:15.333789Z",
     "iopub.status.busy": "2025-08-10T09:03:15.333531Z",
     "iopub.status.idle": "2025-08-10T09:03:15.373702Z",
     "shell.execute_reply": "2025-08-10T09:03:15.372656Z",
     "shell.execute_reply.started": "2025-08-10T09:03:15.333769Z"
    }
   },
   "outputs": [
    {
     "name": "stdout",
     "output_type": "stream",
     "text": [
      "Mumbai Indians: 56.87%\n",
      "Chennai Super Kings: 43.13%\n"
     ]
    }
   ],
   "source": [
    "# Predict win probability\n",
    "print(f\"{sample['batting_team'][0]}: {pipeline.predict_proba(sample)[0][1]:.2%}\")\n",
    "print(f\"{sample['bowling_team'][0]}: {pipeline.predict_proba(sample)[0][0]:.2%}\")"
   ]
  },
  {
   "cell_type": "code",
   "execution_count": 51,
   "metadata": {
    "execution": {
     "iopub.execute_input": "2025-08-10T09:03:15.375138Z",
     "iopub.status.busy": "2025-08-10T09:03:15.374757Z",
     "iopub.status.idle": "2025-08-10T09:03:15.390424Z",
     "shell.execute_reply": "2025-08-10T09:03:15.389061Z",
     "shell.execute_reply.started": "2025-08-10T09:03:15.375080Z"
    }
   },
   "outputs": [],
   "source": [
    "def match_progression(x_df,match_id,pipe):\n",
    "    match = x_df[x_df['match_id'] == match_id]\n",
    "    match = match[match['valid_ball']==1]\n",
    "    match = match[(match['total_valid_balls'] % 6)==0]\n",
    "    match = match[match['remaining_balls'] != 0]\n",
    "    temp_df = match[['city','match_type','target_runs','batting_team','bowling_team','current_score','wickets','crr','rrr','batter_total_runs',\n",
    "          'batter_strikerate','non_striker_runs','non_striker_strikerate','batting_team_win']].dropna()\n",
    "    result = pipe.predict_proba(temp_df)\n",
    "    match['lose'] = np.round(result.T[0]*100,1)\n",
    "    match['win'] = np.round(result.T[1]*100,1)\n",
    "\n",
    "    team1 = match[match['inning']==1]['batting_team'].unique()[0]\n",
    "    team2 = match[match['inning']==1]['bowling_team'].unique()[0]\n",
    "    \n",
    "    team1_win = match[match['inning']==1]['win']\n",
    "    match['team1_win'] = np.concatenate((team1_win,match[match['inning']==2]['lose']))\n",
    "    team2_win = match[match['inning']==1]['lose']\n",
    "    match['team2_win'] = np.concatenate((team2_win,match[match['inning']==2]['win']))\n",
    "    \n",
    "    match['end_of_over'] = range(1,match.shape[0]+1)\n",
    "    \n",
    "    target = match['target_runs'].values[0]\n",
    "    match1 = match[match['inning']==1]\n",
    "    \n",
    "    runs = list(match[match['inning']==1]['remaining_runs'].values)\n",
    "    new_runs = runs[:]\n",
    "    runs.insert(0,target)\n",
    "    inning1_runs = np.array(runs)[:-1] - np.array(new_runs)\n",
    "\n",
    "    runs = list(match[match['inning']==2]['remaining_runs'].values)\n",
    "    new_runs = runs[:]\n",
    "    runs.insert(0,target)\n",
    "    inning2_runs = np.array(runs)[:-1] - np.array(new_runs)\n",
    "    np.concatenate((inning1_runs, inning2_runs))   \n",
    "    match['runs_in_over'] = np.concatenate((inning1_runs, inning2_runs))\n",
    "    \n",
    "    wickets = list(match[match['inning']==1]['wickets'].values)\n",
    "    new_wickets = wickets[:]\n",
    "    wickets.insert(0,0)\n",
    "    w = np.array(wickets)[:-1]\n",
    "    nw = np.array(new_wickets)\n",
    "    inning1_wickets = (nw - w)[0:temp_df.shape[0]]\n",
    "\n",
    "    wickets = list(match[match['inning']==2]['wickets'].values)\n",
    "    new_wickets = wickets[:]\n",
    "    wickets.insert(0,0)\n",
    "    w = np.array(wickets)[:-1]\n",
    "    nw = np.array(new_wickets)\n",
    "    inning2_wickets = (nw - w)[0:temp_df.shape[0]]\n",
    "    match['wickets_in_over'] = np.concatenate((inning1_wickets, inning2_wickets))\n",
    "    \n",
    "    print(\"Target-\",target)\n",
    "    match = match[['end_of_over','runs_in_over','wickets_in_over','team1','team2','team1_win','team2_win']]\n",
    "\n",
    "    return match,target,team1,team2"
   ]
  },
  {
   "cell_type": "code",
   "execution_count": 52,
   "metadata": {
    "execution": {
     "iopub.execute_input": "2025-08-10T09:03:15.391798Z",
     "iopub.status.busy": "2025-08-10T09:03:15.391516Z",
     "iopub.status.idle": "2025-08-10T09:03:15.458488Z",
     "shell.execute_reply": "2025-08-10T09:03:15.457714Z",
     "shell.execute_reply.started": "2025-08-10T09:03:15.391776Z"
    }
   },
   "outputs": [
    {
     "name": "stdout",
     "output_type": "stream",
     "text": [
      "Target- 188.0\n"
     ]
    },
    {
     "data": {
      "text/html": [
       "<div>\n",
       "<style scoped>\n",
       "    .dataframe tbody tr th:only-of-type {\n",
       "        vertical-align: middle;\n",
       "    }\n",
       "\n",
       "    .dataframe tbody tr th {\n",
       "        vertical-align: top;\n",
       "    }\n",
       "\n",
       "    .dataframe thead th {\n",
       "        text-align: right;\n",
       "    }\n",
       "</style>\n",
       "<table border=\"1\" class=\"dataframe\">\n",
       "  <thead>\n",
       "    <tr style=\"text-align: right;\">\n",
       "      <th></th>\n",
       "      <th>end_of_over</th>\n",
       "      <th>runs_in_over</th>\n",
       "      <th>wickets_in_over</th>\n",
       "      <th>team1</th>\n",
       "      <th>team2</th>\n",
       "      <th>team1_win</th>\n",
       "      <th>team2_win</th>\n",
       "    </tr>\n",
       "  </thead>\n",
       "  <tbody>\n",
       "    <tr>\n",
       "      <th>258238</th>\n",
       "      <td>1</td>\n",
       "      <td>10.0</td>\n",
       "      <td>0</td>\n",
       "      <td>Royal Challengers Bengaluru</td>\n",
       "      <td>Delhi Capitals</td>\n",
       "      <td>68.8</td>\n",
       "      <td>31.2</td>\n",
       "    </tr>\n",
       "    <tr>\n",
       "      <th>258244</th>\n",
       "      <td>2</td>\n",
       "      <td>13.0</td>\n",
       "      <td>0</td>\n",
       "      <td>Royal Challengers Bengaluru</td>\n",
       "      <td>Delhi Capitals</td>\n",
       "      <td>55.4</td>\n",
       "      <td>44.6</td>\n",
       "    </tr>\n",
       "    <tr>\n",
       "      <th>258250</th>\n",
       "      <td>3</td>\n",
       "      <td>2.0</td>\n",
       "      <td>1</td>\n",
       "      <td>Royal Challengers Bengaluru</td>\n",
       "      <td>Delhi Capitals</td>\n",
       "      <td>57.4</td>\n",
       "      <td>42.6</td>\n",
       "    </tr>\n",
       "    <tr>\n",
       "      <th>258257</th>\n",
       "      <td>4</td>\n",
       "      <td>12.0</td>\n",
       "      <td>1</td>\n",
       "      <td>Royal Challengers Bengaluru</td>\n",
       "      <td>Delhi Capitals</td>\n",
       "      <td>58.5</td>\n",
       "      <td>41.5</td>\n",
       "    </tr>\n",
       "    <tr>\n",
       "      <th>258263</th>\n",
       "      <td>5</td>\n",
       "      <td>14.0</td>\n",
       "      <td>0</td>\n",
       "      <td>Royal Challengers Bengaluru</td>\n",
       "      <td>Delhi Capitals</td>\n",
       "      <td>74.5</td>\n",
       "      <td>25.5</td>\n",
       "    </tr>\n",
       "    <tr>\n",
       "      <th>258269</th>\n",
       "      <td>6</td>\n",
       "      <td>10.0</td>\n",
       "      <td>0</td>\n",
       "      <td>Royal Challengers Bengaluru</td>\n",
       "      <td>Delhi Capitals</td>\n",
       "      <td>78.6</td>\n",
       "      <td>21.4</td>\n",
       "    </tr>\n",
       "    <tr>\n",
       "      <th>258275</th>\n",
       "      <td>7</td>\n",
       "      <td>15.0</td>\n",
       "      <td>0</td>\n",
       "      <td>Royal Challengers Bengaluru</td>\n",
       "      <td>Delhi Capitals</td>\n",
       "      <td>85.9</td>\n",
       "      <td>14.1</td>\n",
       "    </tr>\n",
       "    <tr>\n",
       "      <th>258281</th>\n",
       "      <td>8</td>\n",
       "      <td>11.0</td>\n",
       "      <td>0</td>\n",
       "      <td>Royal Challengers Bengaluru</td>\n",
       "      <td>Delhi Capitals</td>\n",
       "      <td>87.1</td>\n",
       "      <td>12.9</td>\n",
       "    </tr>\n",
       "    <tr>\n",
       "      <th>258288</th>\n",
       "      <td>9</td>\n",
       "      <td>12.0</td>\n",
       "      <td>0</td>\n",
       "      <td>Royal Challengers Bengaluru</td>\n",
       "      <td>Delhi Capitals</td>\n",
       "      <td>90.3</td>\n",
       "      <td>9.7</td>\n",
       "    </tr>\n",
       "    <tr>\n",
       "      <th>258294</th>\n",
       "      <td>10</td>\n",
       "      <td>11.0</td>\n",
       "      <td>0</td>\n",
       "      <td>Royal Challengers Bengaluru</td>\n",
       "      <td>Delhi Capitals</td>\n",
       "      <td>92.3</td>\n",
       "      <td>7.7</td>\n",
       "    </tr>\n",
       "    <tr>\n",
       "      <th>258301</th>\n",
       "      <td>11</td>\n",
       "      <td>8.0</td>\n",
       "      <td>0</td>\n",
       "      <td>Royal Challengers Bengaluru</td>\n",
       "      <td>Delhi Capitals</td>\n",
       "      <td>92.3</td>\n",
       "      <td>7.7</td>\n",
       "    </tr>\n",
       "    <tr>\n",
       "      <th>258307</th>\n",
       "      <td>12</td>\n",
       "      <td>3.0</td>\n",
       "      <td>0</td>\n",
       "      <td>Royal Challengers Bengaluru</td>\n",
       "      <td>Delhi Capitals</td>\n",
       "      <td>84.3</td>\n",
       "      <td>15.7</td>\n",
       "    </tr>\n",
       "    <tr>\n",
       "      <th>258314</th>\n",
       "      <td>13</td>\n",
       "      <td>10.0</td>\n",
       "      <td>1</td>\n",
       "      <td>Royal Challengers Bengaluru</td>\n",
       "      <td>Delhi Capitals</td>\n",
       "      <td>85.0</td>\n",
       "      <td>15.0</td>\n",
       "    </tr>\n",
       "    <tr>\n",
       "      <th>258320</th>\n",
       "      <td>14</td>\n",
       "      <td>3.0</td>\n",
       "      <td>0</td>\n",
       "      <td>Royal Challengers Bengaluru</td>\n",
       "      <td>Delhi Capitals</td>\n",
       "      <td>76.6</td>\n",
       "      <td>23.4</td>\n",
       "    </tr>\n",
       "    <tr>\n",
       "      <th>258326</th>\n",
       "      <td>15</td>\n",
       "      <td>4.0</td>\n",
       "      <td>1</td>\n",
       "      <td>Royal Challengers Bengaluru</td>\n",
       "      <td>Delhi Capitals</td>\n",
       "      <td>77.8</td>\n",
       "      <td>22.2</td>\n",
       "    </tr>\n",
       "    <tr>\n",
       "      <th>258334</th>\n",
       "      <td>16</td>\n",
       "      <td>9.0</td>\n",
       "      <td>0</td>\n",
       "      <td>Royal Challengers Bengaluru</td>\n",
       "      <td>Delhi Capitals</td>\n",
       "      <td>83.9</td>\n",
       "      <td>16.1</td>\n",
       "    </tr>\n",
       "    <tr>\n",
       "      <th>258340</th>\n",
       "      <td>17</td>\n",
       "      <td>22.0</td>\n",
       "      <td>0</td>\n",
       "      <td>Royal Challengers Bengaluru</td>\n",
       "      <td>Delhi Capitals</td>\n",
       "      <td>84.7</td>\n",
       "      <td>15.3</td>\n",
       "    </tr>\n",
       "    <tr>\n",
       "      <th>258346</th>\n",
       "      <td>18</td>\n",
       "      <td>5.0</td>\n",
       "      <td>2</td>\n",
       "      <td>Royal Challengers Bengaluru</td>\n",
       "      <td>Delhi Capitals</td>\n",
       "      <td>91.9</td>\n",
       "      <td>8.1</td>\n",
       "    </tr>\n",
       "    <tr>\n",
       "      <th>258353</th>\n",
       "      <td>19</td>\n",
       "      <td>5.0</td>\n",
       "      <td>1</td>\n",
       "      <td>Royal Challengers Bengaluru</td>\n",
       "      <td>Delhi Capitals</td>\n",
       "      <td>87.3</td>\n",
       "      <td>12.7</td>\n",
       "    </tr>\n",
       "    <tr>\n",
       "      <th>258365</th>\n",
       "      <td>20</td>\n",
       "      <td>9.0</td>\n",
       "      <td>1</td>\n",
       "      <td>Royal Challengers Bengaluru</td>\n",
       "      <td>Delhi Capitals</td>\n",
       "      <td>57.4</td>\n",
       "      <td>42.6</td>\n",
       "    </tr>\n",
       "    <tr>\n",
       "      <th>258371</th>\n",
       "      <td>21</td>\n",
       "      <td>15.0</td>\n",
       "      <td>0</td>\n",
       "      <td>Royal Challengers Bengaluru</td>\n",
       "      <td>Delhi Capitals</td>\n",
       "      <td>60.1</td>\n",
       "      <td>39.9</td>\n",
       "    </tr>\n",
       "    <tr>\n",
       "      <th>258377</th>\n",
       "      <td>22</td>\n",
       "      <td>4.0</td>\n",
       "      <td>2</td>\n",
       "      <td>Royal Challengers Bengaluru</td>\n",
       "      <td>Delhi Capitals</td>\n",
       "      <td>77.8</td>\n",
       "      <td>22.2</td>\n",
       "    </tr>\n",
       "    <tr>\n",
       "      <th>258383</th>\n",
       "      <td>23</td>\n",
       "      <td>2.0</td>\n",
       "      <td>1</td>\n",
       "      <td>Royal Challengers Bengaluru</td>\n",
       "      <td>Delhi Capitals</td>\n",
       "      <td>87.9</td>\n",
       "      <td>12.1</td>\n",
       "    </tr>\n",
       "    <tr>\n",
       "      <th>258389</th>\n",
       "      <td>24</td>\n",
       "      <td>13.0</td>\n",
       "      <td>0</td>\n",
       "      <td>Royal Challengers Bengaluru</td>\n",
       "      <td>Delhi Capitals</td>\n",
       "      <td>80.1</td>\n",
       "      <td>19.9</td>\n",
       "    </tr>\n",
       "    <tr>\n",
       "      <th>258395</th>\n",
       "      <td>25</td>\n",
       "      <td>11.0</td>\n",
       "      <td>0</td>\n",
       "      <td>Royal Challengers Bengaluru</td>\n",
       "      <td>Delhi Capitals</td>\n",
       "      <td>83.6</td>\n",
       "      <td>16.4</td>\n",
       "    </tr>\n",
       "    <tr>\n",
       "      <th>258401</th>\n",
       "      <td>26</td>\n",
       "      <td>9.0</td>\n",
       "      <td>0</td>\n",
       "      <td>Royal Challengers Bengaluru</td>\n",
       "      <td>Delhi Capitals</td>\n",
       "      <td>83.3</td>\n",
       "      <td>16.7</td>\n",
       "    </tr>\n",
       "    <tr>\n",
       "      <th>258407</th>\n",
       "      <td>27</td>\n",
       "      <td>8.0</td>\n",
       "      <td>0</td>\n",
       "      <td>Royal Challengers Bengaluru</td>\n",
       "      <td>Delhi Capitals</td>\n",
       "      <td>87.2</td>\n",
       "      <td>12.8</td>\n",
       "    </tr>\n",
       "    <tr>\n",
       "      <th>258414</th>\n",
       "      <td>28</td>\n",
       "      <td>10.0</td>\n",
       "      <td>0</td>\n",
       "      <td>Royal Challengers Bengaluru</td>\n",
       "      <td>Delhi Capitals</td>\n",
       "      <td>85.0</td>\n",
       "      <td>15.0</td>\n",
       "    </tr>\n",
       "    <tr>\n",
       "      <th>258420</th>\n",
       "      <td>29</td>\n",
       "      <td>6.0</td>\n",
       "      <td>1</td>\n",
       "      <td>Royal Challengers Bengaluru</td>\n",
       "      <td>Delhi Capitals</td>\n",
       "      <td>84.4</td>\n",
       "      <td>15.6</td>\n",
       "    </tr>\n",
       "    <tr>\n",
       "      <th>258426</th>\n",
       "      <td>30</td>\n",
       "      <td>3.0</td>\n",
       "      <td>1</td>\n",
       "      <td>Royal Challengers Bengaluru</td>\n",
       "      <td>Delhi Capitals</td>\n",
       "      <td>84.7</td>\n",
       "      <td>15.3</td>\n",
       "    </tr>\n",
       "    <tr>\n",
       "      <th>258432</th>\n",
       "      <td>31</td>\n",
       "      <td>10.0</td>\n",
       "      <td>0</td>\n",
       "      <td>Royal Challengers Bengaluru</td>\n",
       "      <td>Delhi Capitals</td>\n",
       "      <td>91.4</td>\n",
       "      <td>8.6</td>\n",
       "    </tr>\n",
       "    <tr>\n",
       "      <th>258438</th>\n",
       "      <td>32</td>\n",
       "      <td>16.0</td>\n",
       "      <td>0</td>\n",
       "      <td>Royal Challengers Bengaluru</td>\n",
       "      <td>Delhi Capitals</td>\n",
       "      <td>87.0</td>\n",
       "      <td>13.0</td>\n",
       "    </tr>\n",
       "    <tr>\n",
       "      <th>258444</th>\n",
       "      <td>33</td>\n",
       "      <td>8.0</td>\n",
       "      <td>0</td>\n",
       "      <td>Royal Challengers Bengaluru</td>\n",
       "      <td>Delhi Capitals</td>\n",
       "      <td>81.3</td>\n",
       "      <td>18.7</td>\n",
       "    </tr>\n",
       "    <tr>\n",
       "      <th>258450</th>\n",
       "      <td>34</td>\n",
       "      <td>3.0</td>\n",
       "      <td>1</td>\n",
       "      <td>Royal Challengers Bengaluru</td>\n",
       "      <td>Delhi Capitals</td>\n",
       "      <td>87.4</td>\n",
       "      <td>12.6</td>\n",
       "    </tr>\n",
       "    <tr>\n",
       "      <th>258457</th>\n",
       "      <td>35</td>\n",
       "      <td>3.0</td>\n",
       "      <td>1</td>\n",
       "      <td>Royal Challengers Bengaluru</td>\n",
       "      <td>Delhi Capitals</td>\n",
       "      <td>95.6</td>\n",
       "      <td>4.4</td>\n",
       "    </tr>\n",
       "    <tr>\n",
       "      <th>258464</th>\n",
       "      <td>36</td>\n",
       "      <td>3.0</td>\n",
       "      <td>0</td>\n",
       "      <td>Royal Challengers Bengaluru</td>\n",
       "      <td>Delhi Capitals</td>\n",
       "      <td>97.8</td>\n",
       "      <td>2.2</td>\n",
       "    </tr>\n",
       "    <tr>\n",
       "      <th>258470</th>\n",
       "      <td>37</td>\n",
       "      <td>2.0</td>\n",
       "      <td>1</td>\n",
       "      <td>Royal Challengers Bengaluru</td>\n",
       "      <td>Delhi Capitals</td>\n",
       "      <td>99.8</td>\n",
       "      <td>0.2</td>\n",
       "    </tr>\n",
       "    <tr>\n",
       "      <th>258478</th>\n",
       "      <td>38</td>\n",
       "      <td>5.0</td>\n",
       "      <td>0</td>\n",
       "      <td>Royal Challengers Bengaluru</td>\n",
       "      <td>Delhi Capitals</td>\n",
       "      <td>100.0</td>\n",
       "      <td>0.0</td>\n",
       "    </tr>\n",
       "  </tbody>\n",
       "</table>\n",
       "</div>"
      ],
      "text/plain": [
       "        end_of_over  runs_in_over  wickets_in_over  \\\n",
       "258238            1          10.0                0   \n",
       "258244            2          13.0                0   \n",
       "258250            3           2.0                1   \n",
       "258257            4          12.0                1   \n",
       "258263            5          14.0                0   \n",
       "258269            6          10.0                0   \n",
       "258275            7          15.0                0   \n",
       "258281            8          11.0                0   \n",
       "258288            9          12.0                0   \n",
       "258294           10          11.0                0   \n",
       "258301           11           8.0                0   \n",
       "258307           12           3.0                0   \n",
       "258314           13          10.0                1   \n",
       "258320           14           3.0                0   \n",
       "258326           15           4.0                1   \n",
       "258334           16           9.0                0   \n",
       "258340           17          22.0                0   \n",
       "258346           18           5.0                2   \n",
       "258353           19           5.0                1   \n",
       "258365           20           9.0                1   \n",
       "258371           21          15.0                0   \n",
       "258377           22           4.0                2   \n",
       "258383           23           2.0                1   \n",
       "258389           24          13.0                0   \n",
       "258395           25          11.0                0   \n",
       "258401           26           9.0                0   \n",
       "258407           27           8.0                0   \n",
       "258414           28          10.0                0   \n",
       "258420           29           6.0                1   \n",
       "258426           30           3.0                1   \n",
       "258432           31          10.0                0   \n",
       "258438           32          16.0                0   \n",
       "258444           33           8.0                0   \n",
       "258450           34           3.0                1   \n",
       "258457           35           3.0                1   \n",
       "258464           36           3.0                0   \n",
       "258470           37           2.0                1   \n",
       "258478           38           5.0                0   \n",
       "\n",
       "                              team1           team2  team1_win  team2_win  \n",
       "258238  Royal Challengers Bengaluru  Delhi Capitals       68.8       31.2  \n",
       "258244  Royal Challengers Bengaluru  Delhi Capitals       55.4       44.6  \n",
       "258250  Royal Challengers Bengaluru  Delhi Capitals       57.4       42.6  \n",
       "258257  Royal Challengers Bengaluru  Delhi Capitals       58.5       41.5  \n",
       "258263  Royal Challengers Bengaluru  Delhi Capitals       74.5       25.5  \n",
       "258269  Royal Challengers Bengaluru  Delhi Capitals       78.6       21.4  \n",
       "258275  Royal Challengers Bengaluru  Delhi Capitals       85.9       14.1  \n",
       "258281  Royal Challengers Bengaluru  Delhi Capitals       87.1       12.9  \n",
       "258288  Royal Challengers Bengaluru  Delhi Capitals       90.3        9.7  \n",
       "258294  Royal Challengers Bengaluru  Delhi Capitals       92.3        7.7  \n",
       "258301  Royal Challengers Bengaluru  Delhi Capitals       92.3        7.7  \n",
       "258307  Royal Challengers Bengaluru  Delhi Capitals       84.3       15.7  \n",
       "258314  Royal Challengers Bengaluru  Delhi Capitals       85.0       15.0  \n",
       "258320  Royal Challengers Bengaluru  Delhi Capitals       76.6       23.4  \n",
       "258326  Royal Challengers Bengaluru  Delhi Capitals       77.8       22.2  \n",
       "258334  Royal Challengers Bengaluru  Delhi Capitals       83.9       16.1  \n",
       "258340  Royal Challengers Bengaluru  Delhi Capitals       84.7       15.3  \n",
       "258346  Royal Challengers Bengaluru  Delhi Capitals       91.9        8.1  \n",
       "258353  Royal Challengers Bengaluru  Delhi Capitals       87.3       12.7  \n",
       "258365  Royal Challengers Bengaluru  Delhi Capitals       57.4       42.6  \n",
       "258371  Royal Challengers Bengaluru  Delhi Capitals       60.1       39.9  \n",
       "258377  Royal Challengers Bengaluru  Delhi Capitals       77.8       22.2  \n",
       "258383  Royal Challengers Bengaluru  Delhi Capitals       87.9       12.1  \n",
       "258389  Royal Challengers Bengaluru  Delhi Capitals       80.1       19.9  \n",
       "258395  Royal Challengers Bengaluru  Delhi Capitals       83.6       16.4  \n",
       "258401  Royal Challengers Bengaluru  Delhi Capitals       83.3       16.7  \n",
       "258407  Royal Challengers Bengaluru  Delhi Capitals       87.2       12.8  \n",
       "258414  Royal Challengers Bengaluru  Delhi Capitals       85.0       15.0  \n",
       "258420  Royal Challengers Bengaluru  Delhi Capitals       84.4       15.6  \n",
       "258426  Royal Challengers Bengaluru  Delhi Capitals       84.7       15.3  \n",
       "258432  Royal Challengers Bengaluru  Delhi Capitals       91.4        8.6  \n",
       "258438  Royal Challengers Bengaluru  Delhi Capitals       87.0       13.0  \n",
       "258444  Royal Challengers Bengaluru  Delhi Capitals       81.3       18.7  \n",
       "258450  Royal Challengers Bengaluru  Delhi Capitals       87.4       12.6  \n",
       "258457  Royal Challengers Bengaluru  Delhi Capitals       95.6        4.4  \n",
       "258464  Royal Challengers Bengaluru  Delhi Capitals       97.8        2.2  \n",
       "258470  Royal Challengers Bengaluru  Delhi Capitals       99.8        0.2  \n",
       "258478  Royal Challengers Bengaluru  Delhi Capitals      100.0        0.0  "
      ]
     },
     "execution_count": 52,
     "metadata": {},
     "output_type": "execute_result"
    }
   ],
   "source": [
    "match_df,target,team1,team2 = match_progression(df_merge,1426300,pipeline)\n",
    "match_df"
   ]
  },
  {
   "cell_type": "code",
   "execution_count": 53,
   "metadata": {
    "execution": {
     "iopub.execute_input": "2025-08-10T09:03:15.459761Z",
     "iopub.status.busy": "2025-08-10T09:03:15.459421Z",
     "iopub.status.idle": "2025-08-10T09:03:15.465022Z",
     "shell.execute_reply": "2025-08-10T09:03:15.464222Z",
     "shell.execute_reply.started": "2025-08-10T09:03:15.459733Z"
    }
   },
   "outputs": [],
   "source": [
    "team1 = ''.join([w[0].upper() for w in team1.split()])\n",
    "team2 = ''.join([w[0].upper() for w in team2.split()])"
   ]
  },
  {
   "cell_type": "code",
   "execution_count": 54,
   "metadata": {
    "execution": {
     "iopub.execute_input": "2025-08-10T09:03:15.466529Z",
     "iopub.status.busy": "2025-08-10T09:03:15.466174Z",
     "iopub.status.idle": "2025-08-10T09:03:15.720144Z",
     "shell.execute_reply": "2025-08-10T09:03:15.719276Z",
     "shell.execute_reply.started": "2025-08-10T09:03:15.466502Z"
    }
   },
   "outputs": [
    {
     "data": {
      "image/png": "[encoded data removed]",
      "text/plain": [
       "<Figure size 1000x600 with 1 Axes>"
      ]
     },
     "metadata": {},
     "output_type": "display_data"
    }
   ],
   "source": [
    "# Plot Win Probability line\n",
    "plt.figure(figsize=(10,6))\n",
    "plt.plot(match_df['end_of_over'], match_df['team1_win'], color='orange', marker='o', label=f'{team1} Win Probability')\n",
    "\n",
    "# Team 2 win probability\n",
    "plt.plot(match_df['end_of_over'], match_df['team2_win'], color='blue', marker='o', label=f'{team2} Win Probability')\n",
    "\n",
    "# Add 50% line\n",
    "plt.axhline(50, color='gray', linestyle='--', linewidth=0.7)\n",
    "\n",
    "# Mark innings break\n",
    "plt.axvline(19, color='black', linestyle='--', linewidth=1)\n",
    "plt.text(15, 102, f\"{team1} Innings\", ha='center', fontsize=9, fontweight='bold')\n",
    "plt.text(30, 102, f\"{team2} Innings\", ha='center', fontsize=9, fontweight='bold')\n",
    "\n",
    "plt.xlabel(\"End of Over\")\n",
    "plt.ylabel(\"Win Probability (%)\")\n",
    "plt.title(\"Win Probability Chart\")\n",
    "plt.legend()\n",
    "plt.grid(alpha=0.3)\n",
    "plt.show()"
   ]
  },
  {
   "cell_type": "code",
   "execution_count": 55,
   "metadata": {
    "execution": {
     "iopub.execute_input": "2025-08-10T09:03:15.721769Z",
     "iopub.status.busy": "2025-08-10T09:03:15.721426Z",
     "iopub.status.idle": "2025-08-10T09:03:15.725519Z",
     "shell.execute_reply": "2025-08-10T09:03:15.724486Z",
     "shell.execute_reply.started": "2025-08-10T09:03:15.721740Z"
    }
   },
   "outputs": [],
   "source": [
    "import pickle\n",
    "pickle.dump(pipeline,open('pipe.pkl','wb'))"
   ]
  }
 ],
 "metadata": {
  "kaggle": {
   "accelerator": "none",
   "dataSources": [
    {
     "datasetId": 3761437,
     "sourceId": 6506081,
     "sourceType": "datasetVersion"
    },
    {
     "datasetId": 990900,
     "sourceId": 8637500,
     "sourceType": "datasetVersion"
    },
    {
     "datasetId": 4652144,
     "sourceId": 12051300,
     "sourceType": "datasetVersion"
    }
   ],
   "dockerImageVersionId": 31089,
   "isGpuEnabled": false,
   "isInternetEnabled": true,
   "language": "python",
   "sourceType": "notebook"
  },
  "kernelspec": {
   "display_name": "Python 3 (ipykernel)",
   "language": "python",
   "name": "python3"
  },
  "language_info": {
   "codemirror_mode": {
    "name": "ipython",
    "version": 3
   },
   "file_extension": ".py",
   "mimetype": "text/x-python",
   "name": "python",
   "nbconvert_exporter": "python",
   "pygments_lexer": "ipython3",
   "version": "3.12.7"
  }
 },
 "nbformat": 4,
 "nbformat_minor": 4
}
